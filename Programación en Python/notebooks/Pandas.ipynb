{
 "cells": [
  {
   "cell_type": "markdown",
   "metadata": {
    "slideshow": {
     "slide_type": "skip"
    }
   },
   "source": [
    "[![Open In Colab](https://colab.research.google.com/assets/colab-badge.svg)](https://colab.research.google.com/github/ja-pg/Programacion-Python-Ciencia-de-Datos/blob/master/Programación%20en%20Python/notebooks/Pandas.ipynb)"
   ]
  },
  {
   "cell_type": "markdown",
   "metadata": {
    "colab_type": "text",
    "id": "CcO06esNJc49",
    "slideshow": {
     "slide_type": "slide"
    }
   },
   "source": [
    "# Pandas\n",
    "\n",
    "Pandas es un paquete de Python que provee dos estructuras de datos para el análisis de datos \"relacionales\" de manera rápida, flexible y expresiva. Pandas está construido sobre Numpy, por lo que muchas de las ventajas de utilizar Numpy se trasladan a Pandas.\n",
    "\n",
    "Pandas puede ser utilizado para trabajar con diferentes tipos de datos:\n",
    "\n",
    "* Tabulares, con datos en columnas que comparten un mismo tipo (por ejemplo, tablas de una base de datos y hojas de Excel).\n",
    "* Series de tiempo.\n",
    "* Matrices con columnas y filas etiquetadas.\n",
    "* Datos de experimentos estadísticos en general.\n"
   ]
  },
  {
   "cell_type": "code",
   "execution_count": null,
   "metadata": {
    "colab": {},
    "colab_type": "code",
    "id": "3PmEICGYLh4Q",
    "slideshow": {
     "slide_type": "subslide"
    }
   },
   "outputs": [],
   "source": [
    "#pd es el alias comun de pandas\n",
    "import pandas as pd\n",
    "import numpy as np"
   ]
  },
  {
   "cell_type": "markdown",
   "metadata": {
    "colab_type": "text",
    "id": "OTXIJU1jJoJx",
    "slideshow": {
     "slide_type": "slide"
    }
   },
   "source": [
    "# Estructuras"
   ]
  },
  {
   "cell_type": "markdown",
   "metadata": {
    "colab_type": "text",
    "id": "95kIZu4KJf14",
    "slideshow": {
     "slide_type": "subslide"
    }
   },
   "source": [
    "## Series\n",
    "\n",
    "La primera estructura de datos de Pandas son las Series. Una Serie es utilizada para arreglos 1D etiquetados con un mismo tipo de dato en todos sus elementos. Una serie es un arreglo 1D donde cada elemento tiene asignado un índice:\n",
    "\n",
    "\n",
    "| index   || |\n",
    "|---||----|\n",
    "| a || s1 |\n",
    "| b || s2 |\n",
    "| c || s3 |\n",
    "| ... || ... |"
   ]
  },
  {
   "cell_type": "code",
   "execution_count": null,
   "metadata": {
    "colab": {},
    "colab_type": "code",
    "id": "_lshPHLAJf_f",
    "slideshow": {
     "slide_type": "subslide"
    }
   },
   "outputs": [],
   "source": [
    "#un objeto series desde una lista\n",
    "s1 = pd.Series(data=[1, 1, 2, 3, 5], index=[\"a\", \"b\", \"c\", \"d\", \"e\"])\n",
    "s1"
   ]
  },
  {
   "cell_type": "markdown",
   "metadata": {
    "colab_type": "text",
    "id": "EIblWSe0JgIb",
    "slideshow": {
     "slide_type": "subslide"
    }
   },
   "source": [
    "## Dataframe\n",
    "\n",
    "Los Dataframes son la segunda estructura en Pandas, éstos son utilizados para datos 2D etiquetados (columnas con nombres generalmente). Las columnas de un Dataframe pueden tener tipos de dato diferentes. Puedes pensar en un Dataframe  como un contenedor de Series, donde cada columna es una Serie (arreglo 1D con etiquetas). Un Dataframe puede representarse como una tabla donde cada fila tiene asignado un índice y cada columna un nombre:\n",
    "\n",
    "| index\\columns  || A  | B  | C  | D  |\n",
    "|---||----|----|----|----|\n",
    "| 1 || a1 | b1 | c1 | d1 |\n",
    "| 2 || a2 | b2 | c2 | d2 |\n",
    "| 3 || a3 | b3 | c3 | d3 |"
   ]
  },
  {
   "cell_type": "code",
   "execution_count": null,
   "metadata": {
    "colab": {},
    "colab_type": "code",
    "id": "6BdTW6AVJgPx",
    "slideshow": {
     "slide_type": "subslide"
    }
   },
   "outputs": [],
   "source": [
    "#un dataframe aleatorio con numpy random\n",
    "df = pd.DataFrame(np.random.randn(6, 4), columns=[\"A\", \"B\", \"C\", \"D\"])\n",
    "df"
   ]
  },
  {
   "cell_type": "markdown",
   "metadata": {
    "colab_type": "text",
    "id": "amSx3Uy5Jgs_",
    "slideshow": {
     "slide_type": "subslide"
    }
   },
   "source": [
    "# Creación y almacenamiento"
   ]
  },
  {
   "cell_type": "markdown",
   "metadata": {
    "colab_type": "text",
    "id": "Efe8EN4EUNr6",
    "slideshow": {
     "slide_type": "subslide"
    }
   },
   "source": [
    "## Creación desde diccionarios de listas"
   ]
  },
  {
   "cell_type": "code",
   "execution_count": null,
   "metadata": {
    "colab": {},
    "colab_type": "code",
    "id": "W3sLNcoIKZ5t",
    "slideshow": {
     "slide_type": "subslide"
    }
   },
   "outputs": [],
   "source": [
    "#Un diccionario de python\n",
    "dict1 = {'pais': ['Mexico',\n",
    "'EUA', \"Francia\"], 'continente': [\"America\", \"America\", \"Europa\"], 'poblacion': [129, 325, 67]}\n",
    "\n",
    "paises = pd.DataFrame(dict1)\n",
    "paises"
   ]
  },
  {
   "cell_type": "markdown",
   "metadata": {
    "colab_type": "text",
    "id": "t0IUUYdWKaQ7",
    "slideshow": {
     "slide_type": "subslide"
    }
   },
   "source": [
    "## Creación desde diccionario anidado"
   ]
  },
  {
   "cell_type": "code",
   "execution_count": null,
   "metadata": {
    "colab": {},
    "colab_type": "code",
    "id": "oPN4K2gSMH8U",
    "slideshow": {
     "slide_type": "subslide"
    }
   },
   "outputs": [],
   "source": [
    "#Un diccionario anidado de python\n",
    "#las claves anidadas especifican el indice de las filas\n",
    "dict2 = {'pais': {\"p1\": 'Mexico',\n",
    "\"p2\": 'EUA', \"p3\": \"Francia\"}, 'continente': {\"p1\": \"America\", \"p2\": \"America\", \"p3\": \"Europa\"}, 'poblacion': {\"p1\": 129, \"p2\": 325, \"p3\": 67}}\n",
    "\n",
    "paises = pd.DataFrame(dict2)\n",
    "paises"
   ]
  },
  {
   "cell_type": "markdown",
   "metadata": {
    "colab_type": "text",
    "id": "vEl2HU6hUKBk",
    "slideshow": {
     "slide_type": "subslide"
    }
   },
   "source": [
    "## Creación desde archivos csv"
   ]
  },
  {
   "cell_type": "code",
   "execution_count": null,
   "metadata": {
    "colab": {},
    "colab_type": "code",
    "id": "zYIeBGnrNupt",
    "slideshow": {
     "slide_type": "subslide"
    }
   },
   "outputs": [],
   "source": [
    "!ls sample_data/"
   ]
  },
  {
   "cell_type": "code",
   "execution_count": null,
   "metadata": {
    "colab": {},
    "colab_type": "code",
    "id": "SW7PjbOONhIn",
    "slideshow": {
     "slide_type": "subslide"
    }
   },
   "outputs": [],
   "source": [
    "#leamos un archivo csv almacenado por colab\n",
    "cali_housing = pd.read_csv(\"sample_data/california_housing_test.csv\", nrows=10)\n",
    "cali_housing"
   ]
  },
  {
   "cell_type": "markdown",
   "metadata": {
    "colab_type": "text",
    "id": "2elveR7cNUJW",
    "slideshow": {
     "slide_type": "subslide"
    }
   },
   "source": [
    "## Creación desde archivos excel"
   ]
  },
  {
   "cell_type": "code",
   "execution_count": null,
   "metadata": {
    "colab": {},
    "colab_type": "code",
    "id": "UswNxhhtruT6",
    "slideshow": {
     "slide_type": "subslide"
    }
   },
   "outputs": [],
   "source": [
    "# Cargar un archivo de excel a colab desde github\n",
    "!curl --remote-name \\\n",
    "     -H 'Accept: application/vnd.github.v3.raw' \\\n",
    "     --location https://github.com/jhermosillo/diplomado_CDD2019/raw/modulo1/Programaci%C3%B3n%20en%20Python/data/california_housing_test.xlsx"
   ]
  },
  {
   "cell_type": "code",
   "execution_count": null,
   "metadata": {
    "colab": {},
    "colab_type": "code",
    "id": "-13jjqLENhe1",
    "slideshow": {
     "slide_type": "subslide"
    }
   },
   "outputs": [],
   "source": [
    "#cargar el archivo en formato xls a un pandas dataframe\n",
    "cali_housing = pd.read_excel(\"california_housing.xls\", index_col=0)\n",
    "cali_housing"
   ]
  },
  {
   "cell_type": "markdown",
   "metadata": {
    "colab_type": "text",
    "id": "PDkNmW3rUKFD",
    "slideshow": {
     "slide_type": "subslide"
    }
   },
   "source": [
    "## Persistencia a disco"
   ]
  },
  {
   "cell_type": "code",
   "execution_count": null,
   "metadata": {
    "colab": {},
    "colab_type": "code",
    "id": "Tiz6wLPAJgx3",
    "slideshow": {
     "slide_type": "subslide"
    }
   },
   "outputs": [],
   "source": [
    "cali_housing.to_csv(\"cali_housing.csv\")\n",
    "#o en formato de excel:\n",
    "cali_housing.to_excel(\"cali_housing.xlsx\")"
   ]
  },
  {
   "cell_type": "markdown",
   "metadata": {
    "colab_type": "text",
    "id": "J9cBi012RwX2",
    "slideshow": {
     "slide_type": "subslide"
    }
   },
   "source": [
    "Ahora se crearon dos archivos en colab"
   ]
  },
  {
   "cell_type": "code",
   "execution_count": null,
   "metadata": {
    "colab": {},
    "colab_type": "code",
    "id": "vA-S4UqPRtaB",
    "slideshow": {
     "slide_type": "subslide"
    }
   },
   "outputs": [],
   "source": [
    "!ls"
   ]
  },
  {
   "cell_type": "markdown",
   "metadata": {
    "colab_type": "text",
    "id": "BIZpbhUppe62",
    "slideshow": {
     "slide_type": "slide"
    }
   },
   "source": [
    "# Accediendo a los datos"
   ]
  },
  {
   "cell_type": "markdown",
   "metadata": {
    "colab_type": "text",
    "id": "YYvyNYxymZcV",
    "slideshow": {
     "slide_type": "subslide"
    }
   },
   "source": [
    "## info()\n",
    "\n",
    "El método info() puede usarse para , mostrar la información general del objeto de Pandas, como el índice y los tipos de datos usados."
   ]
  },
  {
   "cell_type": "code",
   "execution_count": null,
   "metadata": {
    "colab": {},
    "colab_type": "code",
    "id": "W2IlfVfaQdb4",
    "slideshow": {
     "slide_type": "subslide"
    }
   },
   "outputs": [],
   "source": [
    "cali_housing.info()"
   ]
  },
  {
   "cell_type": "markdown",
   "metadata": {
    "colab_type": "text",
    "id": "wboMyaQ4ltYo",
    "slideshow": {
     "slide_type": "subslide"
    }
   },
   "source": [
    "## head() y tail()\n",
    "\n",
    "Los métodos head() y tail() devuelven una pequeña muestra de los primeros o últimos elementos de un objeto Series o Dataframe. Ambas pueden recibir como parámetro el número de elementos que se desean visualizar, por defecto es igual a 5."
   ]
  },
  {
   "cell_type": "code",
   "execution_count": null,
   "metadata": {
    "colab": {},
    "colab_type": "code",
    "id": "8w1nVek4ltdb",
    "slideshow": {
     "slide_type": "subslide"
    }
   },
   "outputs": [],
   "source": [
    "cali_housing.head()"
   ]
  },
  {
   "cell_type": "code",
   "execution_count": null,
   "metadata": {
    "colab": {},
    "colab_type": "code",
    "id": "jXLeXz3SmL2g",
    "slideshow": {
     "slide_type": "subslide"
    }
   },
   "outputs": [],
   "source": [
    "cali_housing.tail(3)"
   ]
  },
  {
   "cell_type": "markdown",
   "metadata": {
    "colab_type": "text",
    "id": "0noSgAwmbj6S",
    "slideshow": {
     "slide_type": "subslide"
    }
   },
   "source": [
    "## df.sample()\n",
    "\n",
    "Para obtener una muestra aleatoria del objeto."
   ]
  },
  {
   "cell_type": "code",
   "execution_count": null,
   "metadata": {
    "colab": {},
    "colab_type": "code",
    "id": "Zs2159iMbkAL",
    "slideshow": {
     "slide_type": "subslide"
    }
   },
   "outputs": [],
   "source": [
    "cali_housing.sample(n=3)"
   ]
  },
  {
   "cell_type": "markdown",
   "metadata": {
    "colab_type": "text",
    "id": "9rFDtUgonaCT",
    "slideshow": {
     "slide_type": "subslide"
    }
   },
   "source": [
    "## df.index\n",
    "\n",
    "El atributo index regresa el índice del objeto de Pandas."
   ]
  },
  {
   "cell_type": "code",
   "execution_count": null,
   "metadata": {
    "colab": {},
    "colab_type": "code",
    "id": "Apbkp5B-naHD",
    "slideshow": {
     "slide_type": "subslide"
    }
   },
   "outputs": [],
   "source": [
    "cali_housing.index"
   ]
  },
  {
   "cell_type": "markdown",
   "metadata": {
    "colab_type": "text",
    "id": "HDC-5YyqnaOV",
    "slideshow": {
     "slide_type": "subslide"
    }
   },
   "source": [
    "## df.columns\n",
    "\n",
    "El atributo columns de un DataFrame devuelve las columnas del mismo."
   ]
  },
  {
   "cell_type": "code",
   "execution_count": null,
   "metadata": {
    "colab": {},
    "colab_type": "code",
    "id": "sNVXAfLQnaSS",
    "slideshow": {
     "slide_type": "subslide"
    }
   },
   "outputs": [],
   "source": [
    "cali_housing.columns"
   ]
  },
  {
   "cell_type": "markdown",
   "metadata": {
    "colab_type": "text",
    "id": "9WdqAWo7oDwj",
    "slideshow": {
     "slide_type": "subslide"
    }
   },
   "source": [
    "## describe()\n",
    "\n",
    "El método describe() regresa un resúmen estadístico del objeto."
   ]
  },
  {
   "cell_type": "code",
   "execution_count": null,
   "metadata": {
    "colab": {},
    "colab_type": "code",
    "id": "qwaMTDgKoD1D",
    "slideshow": {
     "slide_type": "subslide"
    }
   },
   "outputs": [],
   "source": [
    "cali_housing.describe()"
   ]
  },
  {
   "cell_type": "markdown",
   "metadata": {
    "colab_type": "text",
    "id": "AqJUI2dwQdL-",
    "slideshow": {
     "slide_type": "slide"
    }
   },
   "source": [
    "# Selección - asignación"
   ]
  },
  {
   "cell_type": "markdown",
   "metadata": {
    "colab_type": "text",
    "id": "aStR2xhVs5oo",
    "slideshow": {
     "slide_type": "subslide"
    }
   },
   "source": [
    "## Seleccionando columnas\n",
    "\n",
    "Puedes usar dos notaciones para seleccionar una columna de un DataFrame, cualquiera de éstas devolverá un objeto Series.\n",
    "\n",
    "\n",
    "\n",
    "```\n",
    "df.[\"A\"]\n",
    "```\n",
    "\n",
    "o\n",
    "\n",
    "\n",
    "\n",
    "```\n",
    "df.A\n",
    "```\n",
    "\n",
    "\n",
    "\n"
   ]
  },
  {
   "cell_type": "code",
   "execution_count": null,
   "metadata": {
    "colab": {},
    "colab_type": "code",
    "id": "AoTIBTUas5sm",
    "slideshow": {
     "slide_type": "subslide"
    }
   },
   "outputs": [],
   "source": [
    "#seleccionar la columna devuelve un objeto Series\n",
    "cali_housing[\"latitude\"]"
   ]
  },
  {
   "cell_type": "code",
   "execution_count": null,
   "metadata": {
    "colab": {},
    "colab_type": "code",
    "id": "R5__s0jktINE",
    "slideshow": {
     "slide_type": "subslide"
    }
   },
   "outputs": [],
   "source": [
    "#usa segunda opcion para seleccionar columnas\n",
    "cali_housing.latitude"
   ]
  },
  {
   "cell_type": "code",
   "execution_count": null,
   "metadata": {
    "colab": {},
    "colab_type": "code",
    "id": "aL5laUlqKL6F",
    "slideshow": {
     "slide_type": "subslide"
    }
   },
   "outputs": [],
   "source": [
    "#seleccionando una columna como un dataframe\n",
    "cali_housing[[\"latitude\"]]"
   ]
  },
  {
   "cell_type": "markdown",
   "metadata": {
    "colab_type": "text",
    "id": "CjqwQ2SFvO8-",
    "slideshow": {
     "slide_type": "subslide"
    }
   },
   "source": [
    "Seleccionando múltiples columnas\n",
    "\n",
    "\n",
    "\n",
    "```\n",
    "df[[\"A\", ...]]\n",
    "```\n",
    "\n"
   ]
  },
  {
   "cell_type": "code",
   "execution_count": null,
   "metadata": {
    "colab": {},
    "colab_type": "code",
    "id": "VvnPz531vPDZ",
    "slideshow": {
     "slide_type": "subslide"
    }
   },
   "outputs": [],
   "source": [
    "cali_housing[[\"longitude\", \"latitude\"]]"
   ]
  },
  {
   "cell_type": "markdown",
   "metadata": {
    "colab_type": "text",
    "id": "CxB5qTZys52B",
    "slideshow": {
     "slide_type": "subslide"
    }
   },
   "source": [
    "## Seleccionando filas con slicing"
   ]
  },
  {
   "cell_type": "code",
   "execution_count": null,
   "metadata": {
    "colab": {},
    "colab_type": "code",
    "id": "t10uKI8Ss56d",
    "slideshow": {
     "slide_type": "subslide"
    }
   },
   "outputs": [],
   "source": [
    "cali_housing[0:3]"
   ]
  },
  {
   "cell_type": "markdown",
   "metadata": {
    "colab_type": "text",
    "id": "jsZdWJbmu55Y",
    "slideshow": {
     "slide_type": "subslide"
    }
   },
   "source": [
    "## Selección con etiquetas loc"
   ]
  },
  {
   "cell_type": "code",
   "execution_count": null,
   "metadata": {
    "colab": {},
    "colab_type": "code",
    "id": "cAFiM2puu5-4",
    "slideshow": {
     "slide_type": "subslide"
    }
   },
   "outputs": [],
   "source": [
    "cali_housing.loc[:, \"total_rooms\":\"households\"]"
   ]
  },
  {
   "cell_type": "markdown",
   "metadata": {
    "colab_type": "text",
    "id": "oCHwl3yuvCch",
    "slideshow": {
     "slide_type": "subslide"
    }
   },
   "source": [
    "## Selección con enteros iloc"
   ]
  },
  {
   "cell_type": "code",
   "execution_count": null,
   "metadata": {
    "colab": {},
    "colab_type": "code",
    "id": "zYt4MKkUvCi2",
    "slideshow": {
     "slide_type": "subslide"
    }
   },
   "outputs": [],
   "source": [
    "cali_housing.iloc[:, 6:]"
   ]
  },
  {
   "cell_type": "markdown",
   "metadata": {
    "colab_type": "text",
    "id": "dj7r1S5_o7Mw",
    "slideshow": {
     "slide_type": "subslide"
    }
   },
   "source": [
    "## Asignación por rango"
   ]
  },
  {
   "cell_type": "code",
   "execution_count": null,
   "metadata": {
    "colab": {},
    "colab_type": "code",
    "id": "MRN2Ykxzo_Rv",
    "slideshow": {
     "slide_type": "subslide"
    }
   },
   "outputs": [],
   "source": [
    "#primero agregamos una columna random inicializada a 0\n",
    "cali_housing[\"random\"] = 0.0\n",
    "#reasignamos usando np.random\n",
    "cali_housing.loc[:, \"random\"] = np.random.randn(cali_housing.shape[0])\n",
    "cali_housing"
   ]
  },
  {
   "cell_type": "markdown",
   "metadata": {
    "colab_type": "text",
    "id": "CHV9n0JBAUr_",
    "slideshow": {
     "slide_type": "subslide"
    }
   },
   "source": [
    "## Selección con indexación booleana"
   ]
  },
  {
   "cell_type": "code",
   "execution_count": null,
   "metadata": {
    "colab": {},
    "colab_type": "code",
    "id": "jT8B09O6AUwh",
    "slideshow": {
     "slide_type": "subslide"
    }
   },
   "outputs": [],
   "source": [
    "cali_housing[cali_housing[\"population\"] > 1000]"
   ]
  },
  {
   "cell_type": "markdown",
   "metadata": {
    "colab_type": "text",
    "id": "PDy5UYHRDQQ9",
    "slideshow": {
     "slide_type": "subslide"
    }
   },
   "source": [
    "## Selección de celdas con at y iat"
   ]
  },
  {
   "cell_type": "markdown",
   "metadata": {
    "colab_type": "text",
    "id": "TXG-TXOBKiWz",
    "slideshow": {
     "slide_type": "subslide"
    }
   },
   "source": [
    "**at** utiliza etiquetas para seleccionar elementos:"
   ]
  },
  {
   "cell_type": "code",
   "execution_count": null,
   "metadata": {
    "colab": {},
    "colab_type": "code",
    "id": "is4bKkN9DQYE",
    "slideshow": {
     "slide_type": "subslide"
    }
   },
   "outputs": [],
   "source": [
    "cali_housing.at[0, \"housing_median_age\"]"
   ]
  },
  {
   "cell_type": "markdown",
   "metadata": {
    "colab_type": "text",
    "id": "QvT-XktzKjHr",
    "slideshow": {
     "slide_type": "subslide"
    }
   },
   "source": [
    "**iat** utiliza enteros para seleccionar elementos:"
   ]
  },
  {
   "cell_type": "code",
   "execution_count": null,
   "metadata": {
    "colab": {},
    "colab_type": "code",
    "id": "LdKMvBAHKrtI",
    "slideshow": {
     "slide_type": "subslide"
    }
   },
   "outputs": [],
   "source": [
    "cali_housing.iat[1, 4]"
   ]
  },
  {
   "cell_type": "markdown",
   "metadata": {
    "colab_type": "text",
    "id": "-KhyFcrLo102",
    "slideshow": {
     "slide_type": "subslide"
    }
   },
   "source": [
    "## Asignación elemento"
   ]
  },
  {
   "cell_type": "markdown",
   "metadata": {
    "colab_type": "text",
    "id": "mbKBHIY1Pvc2",
    "slideshow": {
     "slide_type": "subslide"
    }
   },
   "source": [
    "También puedes cambir el contenido de las celdas directamente mediante asignación:"
   ]
  },
  {
   "cell_type": "code",
   "execution_count": null,
   "metadata": {
    "colab": {},
    "colab_type": "code",
    "id": "B-pJidvUP5BL",
    "slideshow": {
     "slide_type": "subslide"
    }
   },
   "outputs": [],
   "source": [
    "cali_housing.iat[1, 4] = 200.0\n",
    "cali_housing"
   ]
  },
  {
   "cell_type": "markdown",
   "metadata": {
    "colab_type": "text",
    "id": "XS-y991zSHto",
    "slideshow": {
     "slide_type": "slide"
    }
   },
   "source": [
    "# Atributos\n",
    "\n",
    "* df.T\n",
    "* df.axes\n",
    "* df.dtypes\n",
    "* df.shape\n",
    "* df.size\n",
    "* df.values"
   ]
  },
  {
   "cell_type": "markdown",
   "metadata": {
    "colab_type": "text",
    "id": "Od7ystmNLEZ2",
    "slideshow": {
     "slide_type": "subslide"
    }
   },
   "source": [
    "## df.T\n",
    "\n",
    "La transpuesta de df (filas y columnas intercambiadas):"
   ]
  },
  {
   "cell_type": "code",
   "execution_count": null,
   "metadata": {
    "colab": {},
    "colab_type": "code",
    "id": "T-geuTelA-kY",
    "slideshow": {
     "slide_type": "subslide"
    }
   },
   "outputs": [],
   "source": [
    "#Los indices pasan a ser los nombres de las columnas, las columnas a indices\n",
    "cali_housing.T"
   ]
  },
  {
   "cell_type": "markdown",
   "metadata": {
    "colab_type": "text",
    "id": "7jTK7OIILPGv",
    "slideshow": {
     "slide_type": "subslide"
    }
   },
   "source": [
    "## df.axes\n",
    "\n",
    "Retorna información sobre los axes que componen al objeto:\n"
   ]
  },
  {
   "cell_type": "code",
   "execution_count": null,
   "metadata": {
    "colab": {},
    "colab_type": "code",
    "id": "DFBm4zEvLezZ",
    "slideshow": {
     "slide_type": "subslide"
    }
   },
   "outputs": [],
   "source": [
    "cali_housing.axes"
   ]
  },
  {
   "cell_type": "markdown",
   "metadata": {
    "colab_type": "text",
    "id": "yWLJ_QrBLPNg",
    "slideshow": {
     "slide_type": "subslide"
    }
   },
   "source": [
    "## df.dtypes\n",
    "\n",
    "Retorna los tipos de datos utilizados por el objeto:"
   ]
  },
  {
   "cell_type": "code",
   "execution_count": null,
   "metadata": {
    "colab": {},
    "colab_type": "code",
    "id": "VmixPgzyLw2s",
    "slideshow": {
     "slide_type": "subslide"
    }
   },
   "outputs": [],
   "source": [
    "cali_housing.dtypes"
   ]
  },
  {
   "cell_type": "markdown",
   "metadata": {
    "colab_type": "text",
    "id": "UM0jUGlRLUIi",
    "slideshow": {
     "slide_type": "subslide"
    }
   },
   "source": [
    "## df.shape\n",
    "\n",
    "La forma del objeto (número de filas y columnas en un DataFrame):"
   ]
  },
  {
   "cell_type": "code",
   "execution_count": null,
   "metadata": {
    "colab": {},
    "colab_type": "code",
    "id": "W8GN4lewL48N",
    "slideshow": {
     "slide_type": "subslide"
    }
   },
   "outputs": [],
   "source": [
    "cali_housing.shape"
   ]
  },
  {
   "cell_type": "markdown",
   "metadata": {
    "colab_type": "text",
    "id": "FfWUXPnoLUM0"
   },
   "source": [
    "## df.size\n",
    "\n",
    "El número de elementos en el objeto (número de celdas en un DataFrame):"
   ]
  },
  {
   "cell_type": "code",
   "execution_count": null,
   "metadata": {
    "colab": {},
    "colab_type": "code",
    "id": "g094BaXSL73J",
    "slideshow": {
     "slide_type": "subslide"
    }
   },
   "outputs": [],
   "source": [
    "cali_housing.size"
   ]
  },
  {
   "cell_type": "markdown",
   "metadata": {
    "colab_type": "text",
    "id": "W3JaXU6jLcnB",
    "slideshow": {
     "slide_type": "subslide"
    }
   },
   "source": [
    "## df.values\n",
    "\n",
    "Retorna el objeto de Pandas como un arreglo de Numpy:"
   ]
  },
  {
   "cell_type": "code",
   "execution_count": null,
   "metadata": {
    "colab": {},
    "colab_type": "code",
    "id": "zkLZjQPnL-Vo",
    "slideshow": {
     "slide_type": "subslide"
    }
   },
   "outputs": [],
   "source": [
    "df.values"
   ]
  },
  {
   "cell_type": "markdown",
   "metadata": {
    "colab_type": "text",
    "id": "xhUkS2LaQgJb",
    "slideshow": {
     "slide_type": "slide"
    }
   },
   "source": [
    "# Eliminación\n"
   ]
  },
  {
   "cell_type": "markdown",
   "metadata": {
    "colab_type": "text",
    "id": "RQqR-sPNRM-t",
    "slideshow": {
     "slide_type": "subslide"
    }
   },
   "source": [
    "## Remover filas o columnas con df.drop()\n",
    "\n",
    "El método drop() permite eliminar filas o columnas al especificar el axis correspondiente, puedes eliminar más de una usando una lista como parámetro:"
   ]
  },
  {
   "cell_type": "code",
   "execution_count": null,
   "metadata": {
    "colab": {},
    "colab_type": "code",
    "id": "9P80knKTRNLQ",
    "slideshow": {
     "slide_type": "subslide"
    }
   },
   "outputs": [],
   "source": [
    "#primero agregamos dos nuevas columnas\n",
    "cali_housing[\"temp\"] = \"temp\"\n",
    "cali_housing[\"temp2\"] = cali_housing[\"temp\"] + \"2\"\n",
    "cali_housing"
   ]
  },
  {
   "cell_type": "markdown",
   "metadata": {
    "colab_type": "text",
    "id": "ZZ2h7ayddnQ-",
    "slideshow": {
     "slide_type": "subslide"
    }
   },
   "source": [
    "Eliminar columnas con axis = 1"
   ]
  },
  {
   "cell_type": "code",
   "execution_count": null,
   "metadata": {
    "colab": {},
    "colab_type": "code",
    "id": "5jwbMO9Xdnen",
    "slideshow": {
     "slide_type": "subslide"
    }
   },
   "outputs": [],
   "source": [
    "#drop devuelve un nuevo dataframe sin la columna\n",
    "df = cali_housing.drop([\"temp\", \"temp2\"], axis=1)\n",
    "df"
   ]
  },
  {
   "cell_type": "markdown",
   "metadata": {
    "colab_type": "text",
    "id": "4skGg56odnlF",
    "slideshow": {
     "slide_type": "subslide"
    }
   },
   "source": [
    "Eliminar filas con axis = 0"
   ]
  },
  {
   "cell_type": "code",
   "execution_count": null,
   "metadata": {
    "colab": {},
    "colab_type": "code",
    "id": "8ygP00w8dnsS",
    "slideshow": {
     "slide_type": "subslide"
    }
   },
   "outputs": [],
   "source": [
    "#drop devuelve un nuevo dataframe sin la fila\n",
    "df = cali_housing.drop([5,7,9], axis=0)\n",
    "df"
   ]
  },
  {
   "cell_type": "markdown",
   "metadata": {
    "colab_type": "text",
    "id": "93ha10yDA-fF",
    "slideshow": {
     "slide_type": "subslide"
    }
   },
   "source": [
    "# Remover columnas con del\n",
    "\n",
    "Puedes usar la notación _del df[col_name]_ para eliminar una columna directamente de un DataFrame:"
   ]
  },
  {
   "cell_type": "code",
   "execution_count": null,
   "metadata": {
    "colab": {},
    "colab_type": "code",
    "id": "bwpoq_9TQgPF",
    "slideshow": {
     "slide_type": "subslide"
    }
   },
   "outputs": [],
   "source": [
    "#el dataframe original no ha sido alterado\n",
    "#aun contiene las columnas temporales\n",
    "cali_housing"
   ]
  },
  {
   "cell_type": "code",
   "execution_count": null,
   "metadata": {
    "colab": {},
    "colab_type": "code",
    "id": "pmVacTmiQg-j",
    "slideshow": {
     "slide_type": "subslide"
    }
   },
   "outputs": [],
   "source": [
    "#eliminamos la nueva columna temp con del directamente en el df\n",
    "del cali_housing[\"temp\"]\n",
    "cali_housing"
   ]
  },
  {
   "cell_type": "code",
   "execution_count": null,
   "metadata": {
    "colab": {},
    "colab_type": "code",
    "id": "sr9fkAPWhwhd",
    "slideshow": {
     "slide_type": "subslide"
    }
   },
   "outputs": [],
   "source": [
    "#del elimina una columna a la vez\n",
    "# llamemos del una segunda vez para eliminar temp2\n",
    "del cali_housing[\"temp2\"]\n",
    "cali_housing"
   ]
  },
  {
   "cell_type": "markdown",
   "metadata": {
    "colab_type": "text",
    "id": "Dkzdjyk3VZL_",
    "slideshow": {
     "slide_type": "slide"
    }
   },
   "source": [
    "# Datos faltantes"
   ]
  },
  {
   "cell_type": "markdown",
   "metadata": {
    "colab_type": "text",
    "id": "ySNj8BT8qkI0",
    "slideshow": {
     "slide_type": "subslide"
    }
   },
   "source": [
    "En Pandas, los valores faltantes son representado con el valor NaN (de Not a Number). Cuando existen valores faltantes, muchas veces es necesario eliminarlar las entradas que los contienen o reemplazarlos por valores antes de empezar a trabajar con los datos. Pandas provee algunos métodos para realizar este tipo de tareas."
   ]
  },
  {
   "cell_type": "code",
   "execution_count": null,
   "metadata": {
    "colab": {},
    "colab_type": "code",
    "id": "iymXcdS3uvTB",
    "slideshow": {
     "slide_type": "subslide"
    }
   },
   "outputs": [],
   "source": [
    "#creando un dataframe con datos faltantes\n",
    "df = pd.DataFrame(np.random.randn(5, 3), index=['a', 'c', 'e', 'f', 'h'], columns=['A', 'B', 'C'])\n",
    "df['D'] = df['A'] > 0\n",
    "df = df.reindex(['a', 'b', 'c', 'd', 'e', 'f', 'g', 'h'])\n",
    "df"
   ]
  },
  {
   "cell_type": "markdown",
   "metadata": {
    "colab_type": "text",
    "id": "JOQ6eWscx3Zm",
    "slideshow": {
     "slide_type": "subslide"
    }
   },
   "source": [
    "## df.isna()\n",
    "\n",
    "El método isna() funciona para conocer si el objeto contiene valores faltantes. Regresa un objeto con elementos booleanos que indican la existencia de datos faltantes."
   ]
  },
  {
   "cell_type": "code",
   "execution_count": null,
   "metadata": {
    "colab": {},
    "colab_type": "code",
    "id": "Cvk6XMVSx3eN",
    "slideshow": {
     "slide_type": "subslide"
    }
   },
   "outputs": [],
   "source": [
    "df.isna()"
   ]
  },
  {
   "cell_type": "markdown",
   "metadata": {
    "colab_type": "text",
    "id": "4k7fCgEYqkav",
    "slideshow": {
     "slide_type": "subslide"
    }
   },
   "source": [
    "## df.dropna()\n",
    "\n",
    "El método dropna() permite eliminar del DataFrame las filas o columnas que contienen uno o más elementos NaN.\n",
    "\n",
    "Los principales parámetros de dropna():\n",
    "\n",
    "```\n",
    "axis : {0 o 'index', 1 o 'columns'}, por defecto 0\n",
    "        Determina si elimina filas o columnas que contienen\n",
    "        valores faltantes.\n",
    "    \n",
    "how : {'any', 'all'}, por defecto 'any'\n",
    "    Determina si se elimina la fila o columna cuando contiene al menos un valor faltante o solo si todos sus valores son faltantes.\n",
    "\n",
    "    * 'any' : Si hay un valor faltante, elimina la fila o columna.\n",
    "    * 'all' : Si todos los valores son faltantes, elimina la fila o columna.\n",
    "    \n",
    "thresh : int, opcional\n",
    "    Requirir al menos ese número de valores faltantes para eliminar la fila o columna.\n",
    "```\n",
    "\n"
   ]
  },
  {
   "cell_type": "code",
   "execution_count": null,
   "metadata": {
    "colab": {},
    "colab_type": "code",
    "id": "FlsVq2-fBpXE",
    "slideshow": {
     "slide_type": "subslide"
    }
   },
   "outputs": [],
   "source": [
    "df.dropna(axis=0, how='any')"
   ]
  },
  {
   "cell_type": "code",
   "execution_count": null,
   "metadata": {
    "colab": {},
    "colab_type": "code",
    "id": "efPiUeddzm4H",
    "slideshow": {
     "slide_type": "subslide"
    }
   },
   "outputs": [],
   "source": [
    "#insertando un nuevo nan\n",
    "df.iat[0, 0] = np.nan"
   ]
  },
  {
   "cell_type": "code",
   "execution_count": null,
   "metadata": {
    "colab": {},
    "colab_type": "code",
    "id": "byjfnMF0zkyG",
    "slideshow": {
     "slide_type": "subslide"
    }
   },
   "outputs": [],
   "source": [
    "df.dropna(axis = 0, how='all')"
   ]
  },
  {
   "cell_type": "markdown",
   "metadata": {
    "colab_type": "text",
    "id": "NHj2kDTSqk35",
    "slideshow": {
     "slide_type": "subslide"
    }
   },
   "source": [
    "## df.fillna()\n",
    "\n",
    "El método fillna() permite reemplazar los valores faltantes en un DataFrame por otro valor.\n",
    "\n",
    "Los principales parámetros de fillna():\n",
    "\n",
    "```\n",
    "value : escalar, diccionario, Series, o un DataFrame\n",
    "    El valor utilizado para reemplazar los faltantes.\n",
    "    Si es un diccionario, una serie o un dataframe, entonces\n",
    "    se utiliza el valor asociado a la clave, indice o columna asociada.\n",
    "\n",
    "method : {'backfill', 'bfill', 'pad', 'ffill', None}, por defecto None\n",
    "    El método utilizado para rellenar los espacios vacios.\n",
    "    * pad / ffill: usa el ultimo valor valido para rellenar \n",
    "    hacia adelante hasta el siguiente valor valido.\n",
    "    * backfill / bfill: utilizar la siguiente observacion \n",
    "    valida para rellenar.\n",
    "\n",
    "axis : {0 or 'index', 1 or 'columns'}\n",
    "```\n",
    "\n"
   ]
  },
  {
   "cell_type": "code",
   "execution_count": null,
   "metadata": {
    "colab": {},
    "colab_type": "code",
    "id": "_jBS1p9SqlHi",
    "slideshow": {
     "slide_type": "subslide"
    }
   },
   "outputs": [],
   "source": [
    "#fillna con escalar\n",
    "df.fillna(0.0)"
   ]
  },
  {
   "cell_type": "code",
   "execution_count": null,
   "metadata": {
    "colab": {},
    "colab_type": "code",
    "id": "ijAQd576yuK6",
    "slideshow": {
     "slide_type": "subslide"
    }
   },
   "outputs": [],
   "source": [
    "#usando un diccionario para reemplazar con un valor diferente cada columna\n",
    "df.fillna({'five': False, 'one': 0.0, 'two': 0.0, 'three': 0.0})"
   ]
  },
  {
   "cell_type": "code",
   "execution_count": null,
   "metadata": {
    "colab": {},
    "colab_type": "code",
    "id": "qiJaI1CCxnU0",
    "slideshow": {
     "slide_type": "subslide"
    }
   },
   "outputs": [],
   "source": [
    "df.fillna(method='ffill')"
   ]
  },
  {
   "cell_type": "code",
   "execution_count": null,
   "metadata": {
    "colab": {},
    "colab_type": "code",
    "id": "-jsnbmSbxncu",
    "slideshow": {
     "slide_type": "subslide"
    }
   },
   "outputs": [],
   "source": [
    "df.fillna(method='bfill')"
   ]
  },
  {
   "cell_type": "markdown",
   "metadata": {
    "colab_type": "text",
    "id": "7orBVhvQSHzT",
    "slideshow": {
     "slide_type": "slide"
    }
   },
   "source": [
    "# Métodos Utilitarios\n",
    "\n",
    "* df.copy()\n",
    "* df.sort_values()\n",
    "* df.sort_index()"
   ]
  },
  {
   "cell_type": "markdown",
   "metadata": {
    "colab_type": "text",
    "id": "aUdj9iOdjSsF",
    "slideshow": {
     "slide_type": "subslide"
    }
   },
   "source": [
    "## df.copy()\n",
    "\n",
    "Crea una copia profunda (por defecto) del objeto:"
   ]
  },
  {
   "cell_type": "code",
   "execution_count": null,
   "metadata": {
    "colab": {},
    "colab_type": "code",
    "id": "_ylxot4wjMrA",
    "slideshow": {
     "slide_type": "subslide"
    }
   },
   "outputs": [],
   "source": [
    "df = cali_housing.copy()\n",
    "df"
   ]
  },
  {
   "cell_type": "markdown",
   "metadata": {
    "colab_type": "text",
    "id": "5W8QRU4ajQCl",
    "slideshow": {
     "slide_type": "subslide"
    }
   },
   "source": [
    "## df.sort_values()"
   ]
  },
  {
   "cell_type": "code",
   "execution_count": null,
   "metadata": {
    "colab": {},
    "colab_type": "code",
    "id": "I5dyrY1xjQLY",
    "slideshow": {
     "slide_type": "subslide"
    }
   },
   "outputs": [],
   "source": [
    "df.sort_values(\"housing_median_age\")"
   ]
  },
  {
   "cell_type": "markdown",
   "metadata": {
    "colab_type": "text",
    "id": "Zet4Wt7DjQaP",
    "slideshow": {
     "slide_type": "subslide"
    }
   },
   "source": [
    "## df.sort_index()"
   ]
  },
  {
   "cell_type": "code",
   "execution_count": null,
   "metadata": {
    "colab": {},
    "colab_type": "code",
    "id": "E0eodMQRjQgb",
    "slideshow": {
     "slide_type": "subslide"
    }
   },
   "outputs": [],
   "source": [
    "#una muestra aleatoria\n",
    "df = cali_housing.sample(5)\n",
    "df"
   ]
  },
  {
   "cell_type": "code",
   "execution_count": null,
   "metadata": {
    "colab": {},
    "colab_type": "code",
    "id": "z5hZDIeATSuy",
    "slideshow": {
     "slide_type": "subslide"
    }
   },
   "outputs": [],
   "source": [
    "#ordenar por index\n",
    "df.sort_index()"
   ]
  },
  {
   "cell_type": "markdown",
   "metadata": {
    "colab_type": "text",
    "id": "WpFJKTtLSH6q",
    "slideshow": {
     "slide_type": "slide"
    }
   },
   "source": [
    "# Métodos matemáticos\n",
    "\n",
    "Operaciones binarias:\n",
    "\n",
    "* add(other), suma elemento por elemento un DataFrames/Series y other.\n",
    "* sub(other), resta elemento por elemento un DataFrames/Series y other.\n",
    "* mul(other), multiplicación elemento por elemento de un DataFrames/Series por other.\n",
    "* div(other), divide elemento por elemento un DataFrames/Series entre other.\n",
    "* mod(other), calcula el módulo de un DataFrame/Series usando other.\n",
    "* pow(other), calcula el exponente elemento por elemento de un DataFrame/Series elevado a la potencia de other.\n",
    "* dot(other), producto punto o de matrices entre dos Series/DataFrames respectivamente.\n",
    "\n",
    "_Las operaciones binarias pueden utilizar broadcasting._"
   ]
  },
  {
   "cell_type": "markdown",
   "metadata": {
    "slideshow": {
     "slide_type": "subslide"
    }
   },
   "source": [
    "Operaciones estadísticas:\n",
    "* abs(), valor absoluto de los elementos.\n",
    "* count(axis), cuenta el número de elementos no-nulos en las filas o columnas. \n",
    "* max(axis), retorna el valor máximo encontrado por filas o columnas.\n",
    "* min(axis), retorna el valor mínimo encontrado por filas o columnas.\n",
    "* mean(axis), retorna la media de los elementos por filas o columnas.\n",
    "* median(axis), retorna la mediana de los elementos de las filas o columnas.\n",
    "* sum(axis), retorna la suma de todos los elementos de las filas o columnas.\n",
    "* std(axis), retorna la desviación estándar de las filas o columnas.\n",
    "* var(axis),retorna la varianza de las filas o columnas."
   ]
  },
  {
   "cell_type": "markdown",
   "metadata": {
    "colab_type": "text",
    "id": "GIymgx0GKjyI",
    "slideshow": {
     "slide_type": "subslide"
    }
   },
   "source": [
    "## Operaciones binarias"
   ]
  },
  {
   "cell_type": "code",
   "execution_count": null,
   "metadata": {
    "colab": {},
    "colab_type": "code",
    "id": "t8jB4PTpLlwL",
    "slideshow": {
     "slide_type": "subslide"
    }
   },
   "outputs": [],
   "source": [
    "#creamos un dataframe para ejemplificar las funciones\n",
    "df = pd.DataFrame({'angles': [0, 3, 4], 'degrees': [360, 180, 360]}, index=['circle', 'triangle', 'rectangle'])\n",
    "df"
   ]
  },
  {
   "cell_type": "markdown",
   "metadata": {
    "colab_type": "text",
    "id": "kYiT5W6xKsVt",
    "slideshow": {
     "slide_type": "subslide"
    }
   },
   "source": [
    "### add(), sub(), mul() y div()"
   ]
  },
  {
   "cell_type": "code",
   "execution_count": null,
   "metadata": {
    "colab": {},
    "colab_type": "code",
    "id": "IEyrVIZ1hLEY",
    "slideshow": {
     "slide_type": "subslide"
    }
   },
   "outputs": [],
   "source": [
    "df.add(1)"
   ]
  },
  {
   "cell_type": "code",
   "execution_count": null,
   "metadata": {
    "colab": {},
    "colab_type": "code",
    "id": "VdD5jMxxL9UO",
    "slideshow": {
     "slide_type": "subslide"
    }
   },
   "outputs": [],
   "source": [
    "df.mul(2)"
   ]
  },
  {
   "cell_type": "code",
   "execution_count": null,
   "metadata": {
    "colab": {},
    "colab_type": "code",
    "id": "uYU8Nj9HL-ys",
    "slideshow": {
     "slide_type": "subslide"
    }
   },
   "outputs": [],
   "source": [
    "df.div(2)"
   ]
  },
  {
   "cell_type": "markdown",
   "metadata": {
    "colab_type": "text",
    "id": "X0eCoCPzKwTT",
    "slideshow": {
     "slide_type": "subslide"
    }
   },
   "source": [
    "### mod() y pow()"
   ]
  },
  {
   "cell_type": "code",
   "execution_count": null,
   "metadata": {
    "colab": {},
    "colab_type": "code",
    "id": "N2LKPhushLmc",
    "slideshow": {
     "slide_type": "subslide"
    }
   },
   "outputs": [],
   "source": [
    "df.mod(2)"
   ]
  },
  {
   "cell_type": "code",
   "execution_count": null,
   "metadata": {
    "colab": {},
    "colab_type": "code",
    "id": "ZtqiK_x9MP9z",
    "slideshow": {
     "slide_type": "subslide"
    }
   },
   "outputs": [],
   "source": [
    "df.pow(3)"
   ]
  },
  {
   "cell_type": "markdown",
   "metadata": {
    "colab_type": "text",
    "id": "d9BNaw_GK01I",
    "slideshow": {
     "slide_type": "subslide"
    }
   },
   "source": [
    "### dot()"
   ]
  },
  {
   "cell_type": "code",
   "execution_count": null,
   "metadata": {
    "colab": {},
    "colab_type": "code",
    "id": "7CjDky-LMcQN",
    "slideshow": {
     "slide_type": "subslide"
    }
   },
   "outputs": [],
   "source": [
    "#un nuevo dataframe para ejemplificar dot\n",
    "df = pd.DataFrame([[0, 1, -2, -1], [1, 1, 1, 1]])\n",
    "df"
   ]
  },
  {
   "cell_type": "code",
   "execution_count": null,
   "metadata": {
    "colab": {},
    "colab_type": "code",
    "id": "GdKKQyURK08h",
    "slideshow": {
     "slide_type": "subslide"
    }
   },
   "outputs": [],
   "source": [
    "#dot usando una serie\n",
    "s = pd.Series([1, 1, 2, 1])\n",
    "df.dot(s)"
   ]
  },
  {
   "cell_type": "code",
   "execution_count": null,
   "metadata": {
    "colab": {},
    "colab_type": "code",
    "id": "jLvzQjZOMuJR",
    "slideshow": {
     "slide_type": "subslide"
    }
   },
   "outputs": [],
   "source": [
    "#dot de dos matrices\n",
    "other = pd.DataFrame([[0, 1], [1, 2], [-1, -1], [2, 0]])\n",
    "df.dot(other)"
   ]
  },
  {
   "cell_type": "markdown",
   "metadata": {
    "colab_type": "text",
    "id": "hN3IC4dlKnUI",
    "slideshow": {
     "slide_type": "subslide"
    }
   },
   "source": [
    "## Operaciones estadísticas"
   ]
  },
  {
   "cell_type": "markdown",
   "metadata": {
    "colab_type": "text",
    "id": "giITZgImLK05",
    "slideshow": {
     "slide_type": "subslide"
    }
   },
   "source": [
    "### abs()"
   ]
  },
  {
   "cell_type": "code",
   "execution_count": null,
   "metadata": {
    "colab": {},
    "colab_type": "code",
    "id": "qR_CH7C6jMFk",
    "slideshow": {
     "slide_type": "subslide"
    }
   },
   "outputs": [],
   "source": [
    "#un df con valores negativos\n",
    "df = pd.DataFrame({'a': [4, -5, -6, 7], 'b': [-10, 20, 30, -40], 'c': [100, 50, -30, -50]})\n",
    "df"
   ]
  },
  {
   "cell_type": "code",
   "execution_count": null,
   "metadata": {
    "colab": {},
    "colab_type": "code",
    "id": "6Fvi1UeOmQZI",
    "slideshow": {
     "slide_type": "subslide"
    }
   },
   "outputs": [],
   "source": [
    "df.abs()"
   ]
  },
  {
   "cell_type": "markdown",
   "metadata": {
    "colab_type": "text",
    "id": "1Qpx3o7tLO2L",
    "slideshow": {
     "slide_type": "subslide"
    }
   },
   "source": [
    "### count()"
   ]
  },
  {
   "cell_type": "code",
   "execution_count": null,
   "metadata": {
    "colab": {},
    "colab_type": "code",
    "id": "TRQ1-i_MLO6R",
    "slideshow": {
     "slide_type": "subslide"
    }
   },
   "outputs": [],
   "source": [
    "#un dataframe con valores no-nulos y nuelos\n",
    "df = pd.DataFrame({\"Person\":[\"John\", \"Myla\", \"Lewis\", \"John\", \"Myla\"],\n",
    "                    \"Age\": [24., np.nan, 21., 33, 26],\n",
    "                    \"Single\": [False, True, True, np.nan, np.nan]})\n",
    "df"
   ]
  },
  {
   "cell_type": "markdown",
   "metadata": {
    "colab_type": "text",
    "id": "bhRjhAwsoc3i",
    "slideshow": {
     "slide_type": "subslide"
    }
   },
   "source": [
    "Por columna (por defecto axis=0):"
   ]
  },
  {
   "cell_type": "code",
   "execution_count": null,
   "metadata": {
    "colab": {},
    "colab_type": "code",
    "id": "b9UZfmFrmuxM",
    "slideshow": {
     "slide_type": "subslide"
    }
   },
   "outputs": [],
   "source": [
    "df.count()"
   ]
  },
  {
   "cell_type": "markdown",
   "metadata": {
    "colab_type": "text",
    "id": "rm_XPyieodTa",
    "slideshow": {
     "slide_type": "subslide"
    }
   },
   "source": [
    "Por fila (axis=1)"
   ]
  },
  {
   "cell_type": "code",
   "execution_count": null,
   "metadata": {
    "colab": {},
    "colab_type": "code",
    "id": "xIecQd5aodY3",
    "slideshow": {
     "slide_type": "subslide"
    }
   },
   "outputs": [],
   "source": [
    "df.count(axis=1)"
   ]
  },
  {
   "cell_type": "markdown",
   "metadata": {
    "colab_type": "text",
    "id": "sYkKe0CeLQj9",
    "slideshow": {
     "slide_type": "subslide"
    }
   },
   "source": [
    "### max() y min()"
   ]
  },
  {
   "cell_type": "code",
   "execution_count": null,
   "metadata": {
    "colab": {},
    "colab_type": "code",
    "id": "i8ASz2GHm0oN",
    "slideshow": {
     "slide_type": "subslide"
    }
   },
   "outputs": [],
   "source": [
    "#creamos un dataframe para ejemplificar las funciones\n",
    "df = pd.DataFrame({'angles': [0, 3, 4], 'degrees': [360, 180, 360]}, index=['circle', 'triangle', 'rectangle'])\n",
    "df"
   ]
  },
  {
   "cell_type": "markdown",
   "metadata": {
    "colab_type": "text",
    "id": "bQavGGrFnH1l",
    "slideshow": {
     "slide_type": "subslide"
    }
   },
   "source": [
    "Por columna (por defecto o axis=0):"
   ]
  },
  {
   "cell_type": "code",
   "execution_count": null,
   "metadata": {
    "colab": {},
    "colab_type": "code",
    "id": "voNH4Yf5csuy",
    "slideshow": {
     "slide_type": "subslide"
    }
   },
   "outputs": [],
   "source": [
    "df.max(axis=0)"
   ]
  },
  {
   "cell_type": "code",
   "execution_count": null,
   "metadata": {
    "colab": {},
    "colab_type": "code",
    "id": "LtId7n9PnEyr",
    "slideshow": {
     "slide_type": "subslide"
    }
   },
   "outputs": [],
   "source": [
    "df.min()"
   ]
  },
  {
   "cell_type": "markdown",
   "metadata": {
    "colab_type": "text",
    "id": "e4JTvqUnnMr8",
    "slideshow": {
     "slide_type": "subslide"
    }
   },
   "source": [
    "Por filas:"
   ]
  },
  {
   "cell_type": "code",
   "execution_count": null,
   "metadata": {
    "colab": {},
    "colab_type": "code",
    "id": "6D5arL57nO43",
    "slideshow": {
     "slide_type": "subslide"
    }
   },
   "outputs": [],
   "source": [
    "df.max(axis=1)"
   ]
  },
  {
   "cell_type": "code",
   "execution_count": null,
   "metadata": {
    "colab": {},
    "colab_type": "code",
    "id": "ZGo4traHnPTu",
    "slideshow": {
     "slide_type": "subslide"
    }
   },
   "outputs": [],
   "source": [
    "df.min(axis=1)"
   ]
  },
  {
   "cell_type": "markdown",
   "metadata": {
    "colab_type": "text",
    "id": "rN6bfSoILUzq",
    "slideshow": {
     "slide_type": "subslide"
    }
   },
   "source": [
    "### mean() y median()"
   ]
  },
  {
   "cell_type": "markdown",
   "metadata": {
    "colab_type": "text",
    "id": "2VYzRogro2FS",
    "slideshow": {
     "slide_type": "subslide"
    }
   },
   "source": [
    "Por columnas (por defecto axis=0)"
   ]
  },
  {
   "cell_type": "code",
   "execution_count": null,
   "metadata": {
    "colab": {},
    "colab_type": "code",
    "id": "mzy5zOQ5o22-",
    "slideshow": {
     "slide_type": "subslide"
    }
   },
   "outputs": [],
   "source": [
    "df.mean()"
   ]
  },
  {
   "cell_type": "code",
   "execution_count": null,
   "metadata": {
    "colab": {},
    "colab_type": "code",
    "id": "aVCiWZimpA01",
    "slideshow": {
     "slide_type": "subslide"
    }
   },
   "outputs": [],
   "source": [
    "df.median()"
   ]
  },
  {
   "cell_type": "markdown",
   "metadata": {
    "colab_type": "text",
    "id": "zaBNhyVWo2-v",
    "slideshow": {
     "slide_type": "subslide"
    }
   },
   "source": [
    "Por filas (axis=1):"
   ]
  },
  {
   "cell_type": "code",
   "execution_count": null,
   "metadata": {
    "colab": {},
    "colab_type": "code",
    "id": "KfQwjwIYLakL",
    "slideshow": {
     "slide_type": "subslide"
    }
   },
   "outputs": [],
   "source": [
    "df.mean(axis=1)"
   ]
  },
  {
   "cell_type": "code",
   "execution_count": null,
   "metadata": {
    "colab": {},
    "colab_type": "code",
    "id": "2Hfdph4hpQ_c",
    "slideshow": {
     "slide_type": "subslide"
    }
   },
   "outputs": [],
   "source": [
    "df.median(axis=1)"
   ]
  },
  {
   "cell_type": "markdown",
   "metadata": {
    "colab_type": "text",
    "id": "HPTgv9gBLaqN",
    "slideshow": {
     "slide_type": "subslide"
    }
   },
   "source": [
    "### sum()"
   ]
  },
  {
   "cell_type": "markdown",
   "metadata": {
    "colab_type": "text",
    "id": "44usShNUpbb3",
    "slideshow": {
     "slide_type": "subslide"
    }
   },
   "source": [
    "Por columnas (por defecto axis=0):"
   ]
  },
  {
   "cell_type": "code",
   "execution_count": null,
   "metadata": {
    "colab": {},
    "colab_type": "code",
    "id": "cGGOiXdwLawP",
    "slideshow": {
     "slide_type": "subslide"
    }
   },
   "outputs": [],
   "source": [
    "df.sum()"
   ]
  },
  {
   "cell_type": "markdown",
   "metadata": {
    "colab_type": "text",
    "id": "8Wkp93t_pb75",
    "slideshow": {
     "slide_type": "subslide"
    }
   },
   "source": [
    "Por filas (axis=1):"
   ]
  },
  {
   "cell_type": "code",
   "execution_count": null,
   "metadata": {
    "colab": {},
    "colab_type": "code",
    "id": "g_fIp2cXpcA-",
    "slideshow": {
     "slide_type": "subslide"
    }
   },
   "outputs": [],
   "source": [
    "df.sum(axis=1)"
   ]
  },
  {
   "cell_type": "markdown",
   "metadata": {
    "colab_type": "text",
    "id": "Ep_iABKeLcN2",
    "slideshow": {
     "slide_type": "subslide"
    }
   },
   "source": [
    "### std() y var()"
   ]
  },
  {
   "cell_type": "markdown",
   "metadata": {
    "colab_type": "text",
    "id": "cqDKnpRlpzD4",
    "slideshow": {
     "slide_type": "subslide"
    }
   },
   "source": [
    "Por columnas (por defecto axis=0):"
   ]
  },
  {
   "cell_type": "code",
   "execution_count": null,
   "metadata": {
    "colab": {},
    "colab_type": "code",
    "id": "wvQx0krDLcUZ",
    "slideshow": {
     "slide_type": "subslide"
    }
   },
   "outputs": [],
   "source": [
    "df.std()"
   ]
  },
  {
   "cell_type": "code",
   "execution_count": null,
   "metadata": {
    "colab": {},
    "colab_type": "code",
    "id": "ZMP8viIvp-54",
    "slideshow": {
     "slide_type": "subslide"
    }
   },
   "outputs": [],
   "source": [
    "df.var()"
   ]
  },
  {
   "cell_type": "markdown",
   "metadata": {
    "colab_type": "text",
    "id": "wk7PNbHnpzoY",
    "slideshow": {
     "slide_type": "subslide"
    }
   },
   "source": [
    "Por filas (axis=1):"
   ]
  },
  {
   "cell_type": "code",
   "execution_count": null,
   "metadata": {
    "colab": {},
    "colab_type": "code",
    "id": "ePFAQ62DpztQ",
    "slideshow": {
     "slide_type": "subslide"
    }
   },
   "outputs": [],
   "source": [
    "df.std(axis=1)"
   ]
  },
  {
   "cell_type": "code",
   "execution_count": null,
   "metadata": {
    "colab": {},
    "colab_type": "code",
    "id": "0dzqX_njqDGZ",
    "slideshow": {
     "slide_type": "subslide"
    }
   },
   "outputs": [],
   "source": [
    "df.var(axis=1)"
   ]
  },
  {
   "cell_type": "markdown",
   "metadata": {
    "colab_type": "text",
    "id": "Z4ZjI7Xzcr91",
    "slideshow": {
     "slide_type": "slide"
    }
   },
   "source": [
    "# Aplicando funciones propias"
   ]
  },
  {
   "cell_type": "markdown",
   "metadata": {
    "colab_type": "text",
    "id": "rLqL8hxHcvhp",
    "slideshow": {
     "slide_type": "subslide"
    }
   },
   "source": [
    "## apply()\n",
    "\n",
    "Recibe una función y la aplica a todas las filas o columnas según el axis indicado."
   ]
  },
  {
   "cell_type": "code",
   "execution_count": null,
   "metadata": {
    "colab": {},
    "colab_type": "code",
    "id": "ik_aP1hjT-PU",
    "slideshow": {
     "slide_type": "subslide"
    }
   },
   "outputs": [],
   "source": [
    "f = lambda x: (x - x.mean())/x.var()\n",
    "\n",
    "#aplica la funcion a todas las filas\n",
    "cali_housing.apply(f, axis=0) "
   ]
  },
  {
   "cell_type": "code",
   "execution_count": null,
   "metadata": {
    "colab": {},
    "colab_type": "code",
    "id": "YicJc0p2hGTw",
    "slideshow": {
     "slide_type": "subslide"
    }
   },
   "outputs": [],
   "source": [
    "#aplica la funcion a todas las columnas\n",
    "cali_housing.apply(f, axis=1) "
   ]
  },
  {
   "cell_type": "markdown",
   "metadata": {
    "colab_type": "text",
    "id": "874C05ZNcwDB",
    "slideshow": {
     "slide_type": "subslide"
    }
   },
   "source": [
    "## applymap()\n",
    "\n",
    "Aplica una función elemento por elemento al objeto de Pandas."
   ]
  },
  {
   "cell_type": "code",
   "execution_count": null,
   "metadata": {
    "colab": {},
    "colab_type": "code",
    "id": "GOaAV64ncwKT",
    "slideshow": {
     "slide_type": "subslide"
    }
   },
   "outputs": [],
   "source": [
    "f = lambda x: round(x)\n",
    "\n",
    "#aplica la funcion a todos los elementos\n",
    "cali_housing.applymap(f, axis=0) "
   ]
  },
  {
   "cell_type": "markdown",
   "metadata": {
    "colab_type": "text",
    "id": "rH43oj20UmsY",
    "slideshow": {
     "slide_type": "slide"
    }
   },
   "source": [
    "# Operaciones en columnas\n",
    "\n",
    "Puedes realizar operaciones directamente en las columnas de un DataFrame para obtener resultados como una Serie o para crear nuevas columnas.  Por ejemplo:\n",
    "\n",
    "* Relizar operaciones binarias entre columnas. (suma, resta, multiplicación, etc.).\n",
    "* Aplicar métodos estadísticos en las columnas. (sum(), mean(), var(), etc.).\n",
    "* Una mezcla de operaciones binarias y métodos."
   ]
  },
  {
   "cell_type": "code",
   "execution_count": null,
   "metadata": {
    "colab": {},
    "colab_type": "code",
    "id": "O3KKVANJUrDx",
    "slideshow": {
     "slide_type": "subslide"
    }
   },
   "outputs": [],
   "source": [
    "#creando un dataframe\n",
    "df = pd.DataFrame({\"A\":[1, 2, 3], \"B\":[2, 2, 2]})\n",
    "df"
   ]
  },
  {
   "cell_type": "code",
   "execution_count": null,
   "metadata": {
    "colab": {},
    "colab_type": "code",
    "id": "s5NCuK2LbE8y",
    "slideshow": {
     "slide_type": "subslide"
    }
   },
   "outputs": [],
   "source": [
    "#operaciones entre columna regresan una serie\n",
    "df[\"A\"] * df[\"B\"]"
   ]
  },
  {
   "cell_type": "code",
   "execution_count": null,
   "metadata": {
    "colab": {},
    "colab_type": "code",
    "id": "LcpfXx-mb2-f",
    "slideshow": {
     "slide_type": "subslide"
    }
   },
   "outputs": [],
   "source": [
    "#generar una nueva columna desde una operacion\n",
    "df[\"A^B\"] = df[\"A\"].pow(df[\"B\"])\n",
    "df "
   ]
  },
  {
   "cell_type": "code",
   "execution_count": null,
   "metadata": {
    "colab": {},
    "colab_type": "code",
    "id": "NR78G-lZcPEb",
    "slideshow": {
     "slide_type": "subslide"
    }
   },
   "outputs": [],
   "source": [
    "#aplicar un metodo estadistico a una columna genera un valor\n",
    "df[\"A\"].sum()"
   ]
  },
  {
   "cell_type": "code",
   "execution_count": null,
   "metadata": {
    "colab": {},
    "colab_type": "code",
    "id": "I7L1MVTIcl99",
    "slideshow": {
     "slide_type": "subslide"
    }
   },
   "outputs": [],
   "source": [
    "#generando una nueva columna con la suma de las filas\n",
    "df[\"suma\"] = df.sum(axis=1)\n",
    "df"
   ]
  },
  {
   "cell_type": "markdown",
   "metadata": {
    "colab_type": "text",
    "id": "kQX4ek7hVAuu",
    "slideshow": {
     "slide_type": "slide"
    }
   },
   "source": [
    "# Funciones por grupos y agregación"
   ]
  },
  {
   "cell_type": "markdown",
   "metadata": {
    "colab_type": "text",
    "id": "3kP0btfyqbvP",
    "slideshow": {
     "slide_type": "subslide"
    }
   },
   "source": [
    "## aggregate()/agg()\n",
    "\n",
    "La agregación de datos es una transformación que produce un valor escalar a partir de un arreglo, por ejemplo, las funciones/métodos \"sum\" y \"mean\". Los métodos aggregate() y su alias agg() permiten aplicar una o más funciones de agregación a los objetos de Pandas. \n",
    "\n",
    "Los parámetros principales son:\n",
    "\n",
    "\n",
    "\n",
    "```\n",
    "func : funcion, str, list o dict\n",
    "  La funcion o funciones utilizada spara la agregacion de los datos.\n",
    "\n",
    "  Las combinaciones aceptadas:\n",
    "\n",
    "  funcion\n",
    "  cadena con el nombre de la funcion\n",
    "  lista de funciones y/o nombre de las funciones (ej, [np.sum, 'mean'])\n",
    "  diccionario de etiquetas del axis que mapean a:\n",
    "  - las funciones.\n",
    "  - nombre de funciones.\n",
    "  - lista de funciones.\n",
    "\n",
    "axis : {0 or ‘index’, 1 or ‘columns’}, por defecto 0\n",
    "  Si axis=0 o ‘index’: aplica la funcion a cada columna.\n",
    "  Si axis=1 o ‘columns’: aplica la funcion a cada fila.\n",
    "```\n",
    "\n"
   ]
  },
  {
   "cell_type": "code",
   "execution_count": null,
   "metadata": {
    "colab": {},
    "colab_type": "code",
    "id": "n7WDkeCDh9Ne",
    "slideshow": {
     "slide_type": "subslide"
    }
   },
   "outputs": [],
   "source": [
    "df = pd.DataFrame([[1, 2, 3],\n",
    "                   [4, 5, 6],\n",
    "                   [7, 8, 9]],\n",
    "                  columns=['A', 'B', 'C'])\n",
    "df"
   ]
  },
  {
   "cell_type": "markdown",
   "metadata": {
    "colab_type": "text",
    "id": "UAmPy6H_kEV1",
    "slideshow": {
     "slide_type": "subslide"
    }
   },
   "source": [
    "Por columna (por defecto axis=0):"
   ]
  },
  {
   "cell_type": "code",
   "execution_count": null,
   "metadata": {
    "colab": {},
    "colab_type": "code",
    "id": "F4qbT9ESeVG-",
    "slideshow": {
     "slide_type": "subslide"
    }
   },
   "outputs": [],
   "source": [
    "#funcion de agregacion para calcular varios estadisticos a las columnas\n",
    "df.agg([\"min\", \"max\"])"
   ]
  },
  {
   "cell_type": "markdown",
   "metadata": {
    "colab_type": "text",
    "id": "0h2JljwtkIYQ",
    "slideshow": {
     "slide_type": "subslide"
    }
   },
   "source": [
    "Por filas (axis=1):"
   ]
  },
  {
   "cell_type": "code",
   "execution_count": null,
   "metadata": {
    "colab": {},
    "colab_type": "code",
    "id": "uTuA399VkIcC",
    "slideshow": {
     "slide_type": "subslide"
    }
   },
   "outputs": [],
   "source": [
    "#funcion de agregacion para calcular varios estadisticos a las filas\n",
    "df.agg([\"min\", \"max\"], axis=1)"
   ]
  },
  {
   "cell_type": "markdown",
   "metadata": {
    "colab_type": "text",
    "id": "3yyCfud-kTdn",
    "slideshow": {
     "slide_type": "subslide"
    }
   },
   "source": [
    "Usando un diccionario como parámetro:"
   ]
  },
  {
   "cell_type": "code",
   "execution_count": null,
   "metadata": {
    "colab": {},
    "colab_type": "code",
    "id": "8qrOoj_7kUQs",
    "slideshow": {
     "slide_type": "subslide"
    }
   },
   "outputs": [],
   "source": [
    "df.agg({\"A\": np.min, \"B\": np.max, \"C\": np.mean})"
   ]
  },
  {
   "cell_type": "markdown",
   "metadata": {
    "colab_type": "text",
    "id": "C7R7riKcVDt6",
    "slideshow": {
     "slide_type": "subslide"
    }
   },
   "source": [
    "## groupby()\n",
    "\n",
    "El método groupby() permite generar grupos de datos usando una o más columnas para aplicar funciones de transformación o de agregación. \n",
    "\n",
    "Groupby es útil para contestar preguntas tipo: ¿cuál es la media de altura en hombres y mujeres? o ¿cúal es estado con menor población para cada país?"
   ]
  },
  {
   "cell_type": "code",
   "execution_count": null,
   "metadata": {
    "colab": {},
    "colab_type": "code",
    "id": "Ba0EwO9GVCsO",
    "slideshow": {
     "slide_type": "subslide"
    }
   },
   "outputs": [],
   "source": [
    "df = pd.DataFrame({\"Sexo\": [\"M\", \"F\", \"F\", \"M\"], \"Altura\": [1.68, 1.55, 1.75, 1.82], \"Peso\": [70, 50, 68, 72]})\n",
    "df"
   ]
  },
  {
   "cell_type": "code",
   "execution_count": null,
   "metadata": {
    "colab": {},
    "colab_type": "code",
    "id": "4SjCIZ6Cm2RN",
    "slideshow": {
     "slide_type": "subslide"
    }
   },
   "outputs": [],
   "source": [
    "#generar un dataframe argupado por una columna\n",
    "df.groupby(\"Sexo\")"
   ]
  },
  {
   "cell_type": "markdown",
   "metadata": {
    "colab_type": "text",
    "id": "Qkxna7JlnIbD",
    "slideshow": {
     "slide_type": "subslide"
    }
   },
   "source": [
    "groupby() por si solo no resulta en la salida esperada.\n",
    "\n",
    "Hay que aplicar una función:"
   ]
  },
  {
   "cell_type": "code",
   "execution_count": null,
   "metadata": {
    "colab": {},
    "colab_type": "code",
    "id": "uw0pANH5nans",
    "slideshow": {
     "slide_type": "subslide"
    }
   },
   "outputs": [],
   "source": [
    "#la media de las columnas\n",
    "df.groupby(\"Sexo\").mean()"
   ]
  },
  {
   "cell_type": "code",
   "execution_count": null,
   "metadata": {
    "colab": {},
    "colab_type": "code",
    "id": "jlBYy_eWnrm9",
    "slideshow": {
     "slide_type": "subslide"
    }
   },
   "outputs": [],
   "source": [
    "#seleccionando una sola columna para la agregacion\n",
    "df.groupby(\"Sexo\")[\"Altura\"].mean()"
   ]
  },
  {
   "cell_type": "markdown",
   "metadata": {
    "colab_type": "text",
    "id": "j7H3MQN3hrSB",
    "slideshow": {
     "slide_type": "subslide"
    }
   },
   "source": [
    "**groupby() y agg()**\n",
    "\n",
    "Puedes mezclar groupby() con agg() para aplicar más de una función. "
   ]
  },
  {
   "cell_type": "code",
   "execution_count": null,
   "metadata": {
    "colab": {},
    "colab_type": "code",
    "id": "9l3IAtYBhrv8",
    "slideshow": {
     "slide_type": "subslide"
    }
   },
   "outputs": [],
   "source": [
    "df.groupby(\"Sexo\").agg([\"mean\", \"std\"])"
   ]
  },
  {
   "cell_type": "markdown",
   "metadata": {
    "colab_type": "text",
    "id": "WNskBq1do9g5",
    "slideshow": {
     "slide_type": "subslide"
    }
   },
   "source": [
    "**Agrupando con más de una columna**"
   ]
  },
  {
   "cell_type": "code",
   "execution_count": null,
   "metadata": {
    "colab": {},
    "colab_type": "code",
    "id": "aqA4S2dPo97J",
    "slideshow": {
     "slide_type": "subslide"
    }
   },
   "outputs": [],
   "source": [
    "#agregar una nueva columna al df\n",
    "df[\"Estado\"] = [\"Morelos\", \"DF\", \"DF\", \"DF\"]\n",
    "df"
   ]
  },
  {
   "cell_type": "code",
   "execution_count": null,
   "metadata": {
    "colab": {},
    "colab_type": "code",
    "id": "bA7HP3yLpY9N",
    "slideshow": {
     "slide_type": "subslide"
    }
   },
   "outputs": [],
   "source": [
    "#usando mas de una clave para la agrupacion\n",
    "df.groupby([\"Sexo\", \"Estado\"]).agg(\"mean\")"
   ]
  },
  {
   "cell_type": "markdown",
   "metadata": {
    "colab_type": "text",
    "id": "tn76gw-kVIX5",
    "slideshow": {
     "slide_type": "slide"
    }
   },
   "source": [
    "# Combinar Dataframes"
   ]
  },
  {
   "cell_type": "markdown",
   "metadata": {
    "colab_type": "text",
    "id": "QTjnCTA0oKOZ",
    "slideshow": {
     "slide_type": "subslide"
    }
   },
   "source": [
    "## append()\n",
    "\n",
    "Concatena las filas de un DataFrame a otro usando las columnas que coinciden. Columnas que no coinciden son agregadas al DataFrame resultante."
   ]
  },
  {
   "cell_type": "code",
   "execution_count": null,
   "metadata": {
    "colab": {},
    "colab_type": "code",
    "id": "H3iFTLk7VKbK",
    "slideshow": {
     "slide_type": "subslide"
    }
   },
   "outputs": [],
   "source": [
    "df = pd.DataFrame([[1, 2], [3, 4]], columns=[\"A\", \"B\"])\n",
    "df"
   ]
  },
  {
   "cell_type": "code",
   "execution_count": null,
   "metadata": {
    "colab": {},
    "colab_type": "code",
    "id": "l6w99m9aqLaO",
    "slideshow": {
     "slide_type": "subslide"
    }
   },
   "outputs": [],
   "source": [
    "df2 = df2 = pd.DataFrame([[5, 6], [7, 8]], columns=[\"A\", \"B\"])\n",
    "df2"
   ]
  },
  {
   "cell_type": "code",
   "execution_count": null,
   "metadata": {
    "colab": {},
    "colab_type": "code",
    "id": "37SLtmNhrfPi",
    "slideshow": {
     "slide_type": "subslide"
    }
   },
   "outputs": [],
   "source": [
    "df.append(df2)"
   ]
  },
  {
   "cell_type": "markdown",
   "metadata": {
    "colab_type": "text",
    "id": "9exwc3KToKoF",
    "slideshow": {
     "slide_type": "subslide"
    }
   },
   "source": [
    "## merge() y join()\n",
    "\n",
    "Joins al estilo SQL.\n",
    "\n",
    "Si no conoces SQL visita este sitio para darte una idea de los tipos de joins disponibles: https://www.w3schools.com/sql/sql_join.asp\n",
    "\n",
    "![dofactory.com](https://www.dofactory.com/Images/sql-joins.png)"
   ]
  },
  {
   "cell_type": "markdown",
   "metadata": {
    "colab_type": "text",
    "id": "p7okKBKWtsea",
    "slideshow": {
     "slide_type": "subslide"
    }
   },
   "source": [
    "**merge()**\n",
    "\n",
    "Parámetros principales:\n",
    "\n",
    "\n",
    "```\n",
    "right : DataFrame o  Series\n",
    "  Objeto con el que realizar merge()\n",
    "\n",
    "how:{‘left’, ‘right’, ‘outer’, ‘inner’}, Por defecto ‘inner’\n",
    "  Type of merge to be performed.\n",
    "\n",
    "  left: similar a un left outer join de SQL.\n",
    "  right: similar a un  right outer join SQL.\n",
    "  outer:  similar a un full outer join SQL.\n",
    "  inner: similar a un inner join de SQL.\n",
    "\n",
    "on : etiqueta o lista de etiquetas\n",
    "  Columnas o indices para unir. Deben estar en ambos DataFrames.\n",
    "\n",
    "left_on : etiqueta, lista de etiquetas\n",
    "  Columnas o indices para unir del DataFrame de la izquierda.\n",
    "\n",
    "right_on : etiqueta, lista de etiquetas\n",
    "  Columnas o indices para unir del DataFrame de la derecha.\n",
    "```\n"
   ]
  },
  {
   "cell_type": "code",
   "execution_count": null,
   "metadata": {
    "colab": {},
    "colab_type": "code",
    "id": "2Du2Y5qHqOOK",
    "slideshow": {
     "slide_type": "subslide"
    }
   },
   "outputs": [],
   "source": [
    "df1 = pd.DataFrame({'key': ['foo', 'bar', 'baz', 'foo'], 'value': [1, 2, 3, 5]})\n",
    "df1"
   ]
  },
  {
   "cell_type": "code",
   "execution_count": null,
   "metadata": {
    "colab": {},
    "colab_type": "code",
    "id": "Cj-XgVtqtYA7",
    "slideshow": {
     "slide_type": "subslide"
    }
   },
   "outputs": [],
   "source": [
    "df2 = pd.DataFrame({'key': ['foo', 'bar', 'baz', 'foo'], 'value': [5, 6, 7, 8]})\n",
    "df2"
   ]
  },
  {
   "cell_type": "code",
   "execution_count": null,
   "metadata": {
    "colab": {},
    "colab_type": "code",
    "id": "nC1dlsPztc-I",
    "slideshow": {
     "slide_type": "subslide"
    }
   },
   "outputs": [],
   "source": [
    "df1.merge(df2, how=\"inner\", on=\"key\")"
   ]
  },
  {
   "cell_type": "markdown",
   "metadata": {
    "colab_type": "text",
    "id": "RcwPQghivj8S",
    "slideshow": {
     "slide_type": "subslide"
    }
   },
   "source": [
    "**join()**\n",
    "\n",
    "Permite unir las columnas de uno o más objetos usando su índice o usando una columna como clave.\n",
    "\n",
    "\n",
    "Parámetros:\n",
    "```\n",
    "other : DataFrame, Series, o lista de DataFrames\n",
    "\n",
    "on : str o lista de str, opcional (por defecto usa los indices)\n",
    "\n",
    "how:{‘left’, ‘right’, ‘outer’, ‘inner’}, Por defecto ‘inner’\n",
    "  Type of merge to be performed.\n",
    "\n",
    "  left: usar el indice del DataFrame que llama al metodo.\n",
    "  right: usar el indice de other.\n",
    "  outer:  union de los indices.\n",
    "  inner: interseccion de los indices.\n",
    "\n",
    "lsuffix : str, por defecto ‘’\n",
    "  sufijo a utilizar del dataframe izq para la columnas sobrelapadas.\n",
    "\n",
    "rsuffix : str, default ‘’\n",
    "  sufijo a utilizar del dataframe der para la columnas sobrelapadas.\n",
    "```\n",
    "\n"
   ]
  },
  {
   "cell_type": "code",
   "execution_count": null,
   "metadata": {
    "colab": {},
    "colab_type": "code",
    "id": "OPJ0nnz0w_Sk",
    "slideshow": {
     "slide_type": "subslide"
    }
   },
   "outputs": [],
   "source": [
    "df1 = pd.DataFrame({'key': ['foo', 'bar', 'baz', 'foo'], 'value': [1, 2, 3, 5]}).set_index(\"key\")\n",
    "df1"
   ]
  },
  {
   "cell_type": "code",
   "execution_count": null,
   "metadata": {
    "colab": {},
    "colab_type": "code",
    "id": "s1NKoBucw_b2",
    "slideshow": {
     "slide_type": "subslide"
    }
   },
   "outputs": [],
   "source": [
    "df2 = pd.DataFrame({'key': ['foo', 'bar', 'baz', 'foo'], 'value': [5, 6, 7, 8]}).set_index(\"key\")\n",
    "df2"
   ]
  },
  {
   "cell_type": "code",
   "execution_count": null,
   "metadata": {
    "colab": {},
    "colab_type": "code",
    "id": "XxGont_ExMFH",
    "slideshow": {
     "slide_type": "subslide"
    }
   },
   "outputs": [],
   "source": [
    "df1.join(df2, lsuffix=\"_l\", rsuffix=\"_r\")"
   ]
  },
  {
   "cell_type": "markdown",
   "metadata": {
    "colab_type": "text",
    "id": "_L-No5v8Vm2a",
    "slideshow": {
     "slide_type": "slide"
    }
   },
   "source": [
    "# Cadenas\n",
    "\n",
    "Muchas de los métodos/funciones de Python para variables string, tienen un método equivalente en los objetos Series y DataFrames de Pandas.\n",
    "\n",
    "Métodos principales para cadenas:\n",
    "\n",
    "* str.cat(other, sep), concatenta sep y other a cada str en el objeto.\n",
    "* str.split(str), divide la cadena usando el separador especificado.\n",
    "* str.replace(patt, repl), reemplaza en la cadena patt por repl.\n",
    "* str.lower() y str.upper(), para convertir cadenas a minúsculas o mayúsculas.\n",
    "* str.len(), calcula la longitud de la cadena.\n",
    "* str.count(str), cuenta el número de apariciones de str en la cadena.\n",
    "* str.strip(str), elimina str al inicio y final de la cadena.\n",
    "\n",
    "Visita la documentación para la lista completa de [métodos para cadenas de texto de Pandas](https://pandas.pydata.org/pandas-docs/stable/user_guide/text.html#method-summary).\n"
   ]
  },
  {
   "cell_type": "code",
   "execution_count": null,
   "metadata": {
    "colab": {},
    "colab_type": "code",
    "id": "x6OD5UjjVRgL",
    "slideshow": {
     "slide_type": "subslide"
    }
   },
   "outputs": [],
   "source": [
    "s1 = pd.Series([\"A\", \"B\", \"C\"])\n",
    "s1"
   ]
  },
  {
   "cell_type": "code",
   "execution_count": null,
   "metadata": {
    "colab": {},
    "colab_type": "code",
    "id": "MxstMIglhypx",
    "slideshow": {
     "slide_type": "subslide"
    }
   },
   "outputs": [],
   "source": [
    "s2 = pd.Series([\"1\", \"2\", \"3\"])\n",
    "s2"
   ]
  },
  {
   "cell_type": "code",
   "execution_count": null,
   "metadata": {
    "colab": {},
    "colab_type": "code",
    "id": "x9F2lAoyg765",
    "slideshow": {
     "slide_type": "subslide"
    }
   },
   "outputs": [],
   "source": [
    "#concatenando s1 y s2 generando s3\n",
    "s3 = s1.str.cat(s2, sep=\"-\")\n",
    "s3"
   ]
  },
  {
   "cell_type": "code",
   "execution_count": null,
   "metadata": {
    "colab": {},
    "colab_type": "code",
    "id": "BHPmiTLFiG4a",
    "slideshow": {
     "slide_type": "subslide"
    }
   },
   "outputs": [],
   "source": [
    "#str split\n",
    "s3.str.split(\"-\")"
   ]
  },
  {
   "cell_type": "code",
   "execution_count": null,
   "metadata": {
    "colab": {},
    "colab_type": "code",
    "id": "p5UZmIieiOYh",
    "slideshow": {
     "slide_type": "subslide"
    }
   },
   "outputs": [],
   "source": [
    "#str.replace\n",
    "s3.str.replace(pat=\"-\", repl=\"_\")"
   ]
  },
  {
   "cell_type": "code",
   "execution_count": null,
   "metadata": {
    "colab": {},
    "colab_type": "code",
    "id": "EA3DyWgOiAen",
    "slideshow": {
     "slide_type": "subslide"
    }
   },
   "outputs": [],
   "source": [
    "#un nuevo df\n",
    "s = pd.Series([\"gato\", \"perro\", \"elefante\"])"
   ]
  },
  {
   "cell_type": "code",
   "execution_count": null,
   "metadata": {
    "colab": {},
    "colab_type": "code",
    "id": "DwtQJJwriluM",
    "slideshow": {
     "slide_type": "subslide"
    }
   },
   "outputs": [],
   "source": [
    "#upper\n",
    "s.str.upper()"
   ]
  },
  {
   "cell_type": "code",
   "execution_count": null,
   "metadata": {
    "colab": {},
    "colab_type": "code",
    "id": "ISoIjll3ir8W",
    "slideshow": {
     "slide_type": "subslide"
    }
   },
   "outputs": [],
   "source": [
    "#len\n",
    "s.str.len()"
   ]
  },
  {
   "cell_type": "code",
   "execution_count": null,
   "metadata": {
    "colab": {},
    "colab_type": "code",
    "id": "1axpUP6vivRY",
    "slideshow": {
     "slide_type": "subslide"
    }
   },
   "outputs": [],
   "source": [
    "#count\n",
    "s.str.count(\"o\")"
   ]
  },
  {
   "cell_type": "code",
   "execution_count": null,
   "metadata": {
    "colab": {},
    "colab_type": "code",
    "id": "4AfZk9Pyi42j",
    "slideshow": {
     "slide_type": "subslide"
    }
   },
   "outputs": [],
   "source": [
    "#un nuevo df\n",
    "s4 = pd.Series([\"_A_\", \"_B_\", \"_C_\", \"_D_\"])\n",
    "s4"
   ]
  },
  {
   "cell_type": "code",
   "execution_count": null,
   "metadata": {
    "colab": {},
    "colab_type": "code",
    "id": "xGUWuWAkjJGM",
    "slideshow": {
     "slide_type": "subslide"
    }
   },
   "outputs": [],
   "source": [
    "s4.str.strip(\"_\")"
   ]
  },
  {
   "cell_type": "markdown",
   "metadata": {
    "colab_type": "text",
    "id": "k3f__tkwckYx",
    "slideshow": {
     "slide_type": "slide"
    }
   },
   "source": [
    "# Series de tiempo\n",
    "\n",
    "Pandas utiliza el tipo de dato \"Timestamp\" para el manejo de fechas y tiempo."
   ]
  },
  {
   "cell_type": "markdown",
   "metadata": {
    "colab_type": "text",
    "id": "f8dQbtFPg0RI",
    "slideshow": {
     "slide_type": "subslide"
    }
   },
   "source": [
    "## String a Timestamp"
   ]
  },
  {
   "cell_type": "code",
   "execution_count": null,
   "metadata": {
    "colab": {},
    "colab_type": "code",
    "id": "00MB65mOckiQ",
    "slideshow": {
     "slide_type": "subslide"
    }
   },
   "outputs": [],
   "source": [
    "ts_index = pd.to_datetime([\"10/09/2006\", \"11/09/2006\", \"12/09/2006\"])\n",
    "ts_index"
   ]
  },
  {
   "cell_type": "markdown",
   "metadata": {
    "colab_type": "text",
    "id": "OAwU2ETlg7Aq",
    "slideshow": {
     "slide_type": "subslide"
    }
   },
   "source": [
    "Creando una serie de tiempo desde objetos:"
   ]
  },
  {
   "cell_type": "code",
   "execution_count": null,
   "metadata": {
    "colab": {},
    "colab_type": "code",
    "id": "oXrkDmylg7KB",
    "slideshow": {
     "slide_type": "subslide"
    }
   },
   "outputs": [],
   "source": [
    "ts = pd.Series([\"5\", \"10\", \"15\"], index=ts_index)\n",
    "ts"
   ]
  },
  {
   "cell_type": "markdown",
   "metadata": {
    "colab_type": "text",
    "id": "tc8pIQAMmods",
    "slideshow": {
     "slide_type": "subslide"
    }
   },
   "source": [
    "Creando una serie de tiempo usando aleatoriamente usando Numpy y date_range de Pandas:"
   ]
  },
  {
   "cell_type": "code",
   "execution_count": null,
   "metadata": {
    "colab": {},
    "colab_type": "code",
    "id": "I-g0NLy4moi6",
    "slideshow": {
     "slide_type": "subslide"
    }
   },
   "outputs": [],
   "source": [
    "ts = pd.Series(np.random.normal(0, 1, 100), index=pd.date_range(start=\"2006-01-01\", periods=100, freq=\"D\"))\n",
    "ts.head(10)"
   ]
  },
  {
   "cell_type": "markdown",
   "metadata": {
    "colab_type": "text",
    "id": "oRuwhTMRmdNM",
    "slideshow": {
     "slide_type": "subslide"
    }
   },
   "source": [
    "## Indexing\n",
    "\n",
    "Puedes utilizar fechas para indexar una serie de tiempo:"
   ]
  },
  {
   "cell_type": "code",
   "execution_count": null,
   "metadata": {
    "colab": {},
    "colab_type": "code",
    "id": "wGH6izcRl4q_",
    "slideshow": {
     "slide_type": "subslide"
    }
   },
   "outputs": [],
   "source": [
    "#usando el anio y mes como indice\n",
    "ts[\"2006-02\"]"
   ]
  },
  {
   "cell_type": "code",
   "execution_count": null,
   "metadata": {
    "colab": {},
    "colab_type": "code",
    "id": "3Ap7AU9bunh_",
    "slideshow": {
     "slide_type": "subslide"
    }
   },
   "outputs": [],
   "source": [
    "#una rebanada entre fechas\n",
    "ts[\"2006-02-20\": \"2006-03-10\"]"
   ]
  },
  {
   "cell_type": "markdown",
   "metadata": {
    "colab_type": "text",
    "id": "OhcR1uS6n2py",
    "slideshow": {
     "slide_type": "subslide"
    }
   },
   "source": [
    "## Resampling / agregación\n",
    "\n",
    "Permite obtener desde una serie de tiempo una nueva serie de tiempo a una frecuencia de tiempo menor al agregar los datos."
   ]
  },
  {
   "cell_type": "code",
   "execution_count": null,
   "metadata": {
    "colab": {},
    "colab_type": "code",
    "id": "jwU6jpz0n41e",
    "slideshow": {
     "slide_type": "subslide"
    }
   },
   "outputs": [],
   "source": [
    "#De frecuencia por dias a semanas\n",
    "ts.resample(\"W\").mean()"
   ]
  },
  {
   "cell_type": "markdown",
   "metadata": {
    "colab_type": "text",
    "id": "-xUm9dhkn5RX",
    "slideshow": {
     "slide_type": "subslide"
    }
   },
   "source": [
    "## Ventanas\n",
    "\n",
    "Puedes aplicar ventanas deslizantes a series de tiempo para calcular distintos estadísticos."
   ]
  },
  {
   "cell_type": "code",
   "execution_count": null,
   "metadata": {
    "colab": {},
    "colab_type": "code",
    "id": "DCVmpAFTn5e6",
    "slideshow": {
     "slide_type": "subslide"
    }
   },
   "outputs": [],
   "source": [
    "ts.rolling(window=7).mean().head(14)"
   ]
  }
 ],
 "metadata": {
  "colab": {
   "collapsed_sections": [],
   "name": "Pandas.ipynb",
   "provenance": []
  },
  "kernelspec": {
   "display_name": "Python 3",
   "language": "python",
   "name": "python3"
  },
  "language_info": {
   "codemirror_mode": {
    "name": "ipython",
    "version": 3
   },
   "file_extension": ".py",
   "mimetype": "text/x-python",
   "name": "python",
   "nbconvert_exporter": "python",
   "pygments_lexer": "ipython3",
   "version": "3.7.1"
  }
 },
 "nbformat": 4,
 "nbformat_minor": 1
}
