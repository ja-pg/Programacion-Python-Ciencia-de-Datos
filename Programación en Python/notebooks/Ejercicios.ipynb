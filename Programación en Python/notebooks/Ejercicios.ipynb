{
 "cells": [
  {
   "cell_type": "markdown",
   "metadata": {},
   "source": [
    "[![Open In Colab](https://colab.research.google.com/assets/colab-badge.svg)](https://colab.research.google.com/github/ja-pg/Programacion-Python-Ciencia-de-Datos/blob/master/Programación%20en%20Python/notebooks/Ejercicios.ipynb)"
   ]
  },
  {
   "cell_type": "markdown",
   "metadata": {
    "colab_type": "text",
    "id": "4zMzLuXxBDdY"
   },
   "source": [
    "# Ejercicios bases de Python"
   ]
  },
  {
   "cell_type": "markdown",
   "metadata": {
    "colab_type": "text",
    "id": "HAY8IBC4dM62"
   },
   "source": [
    "## Estructuras, asignación y funciones"
   ]
  },
  {
   "cell_type": "markdown",
   "metadata": {
    "colab_type": "text",
    "id": "5OKzkyU6_1kB"
   },
   "source": [
    "Completa la función que recibe como parámetro un número entero entre 1 y 12 que representa un mes del año y devuelve como salida el nombre del mes.\n",
    "\n",
    "1 - Enero\n",
    "\n",
    "2 - Febrero\n",
    "\n",
    "3 - Marzo\n",
    "\n",
    "4 - Abril\n",
    "\n",
    "5 - Mayo\n",
    "\n",
    "6 - Junio\n",
    "\n",
    "7 - Julio\n",
    "\n",
    "8 - Agosto\n",
    "\n",
    "9 - Septiembre\n",
    "\n",
    "10 - Octubre\n",
    "\n",
    "11 - Noviembre\n",
    "\n",
    "12 - Diciembre"
   ]
  },
  {
   "cell_type": "code",
   "execution_count": 0,
   "metadata": {
    "colab": {},
    "colab_type": "code",
    "id": "QjsW0Y_M_x4j"
   },
   "outputs": [],
   "source": [
    "def nombreMes(mes):\n",
    "  \"\"\"\n",
    "  Completa la funcion para regresar el nombre del mes\n",
    "\n",
    "  Los nombres de cada mes son:\n",
    "  \"Enero\", \"Febrero\", \"Marzo\", \"Abril\", \"Mayo\", \"Junio\", \"Julio\", \"Agosto\", \"Septiembre\", \"Octubre\", \"Noviembre\", \"Diciembre\"\n",
    "\n",
    "  retorna la variable nombre con la cadena que contiene el nombre del mes correspondiente\n",
    "  \"\"\"\n",
    "  #completa con tu codigo\n",
    "\n",
    "  nombre = #completa con tu codigo\n",
    "  return nombre"
   ]
  },
  {
   "cell_type": "code",
   "execution_count": 0,
   "metadata": {
    "colab": {},
    "colab_type": "code",
    "id": "RkNtzllbBirX"
   },
   "outputs": [],
   "source": [
    "#prueba la funcion\n",
    "mes = 9\n",
    "print(\"El mes numero\", mes, \"es:\", nombreMes(mes))"
   ]
  },
  {
   "cell_type": "markdown",
   "metadata": {
    "colab_type": "text",
    "id": "GS1kdS8ccgAx"
   },
   "source": [
    "Ejecuta la siguiente celda para comprobar que tu función es correcta:"
   ]
  },
  {
   "cell_type": "code",
   "execution_count": 0,
   "metadata": {
    "colab": {},
    "colab_type": "code",
    "id": "JylAgOKjBi3t"
   },
   "outputs": [],
   "source": [
    "#Esta celda no debe mandar error e imprimira la funcion es correcta si tu funcion lo es\n",
    "assert [nombreMes(m) for m in range(1, 13)] == [\"Enero\", \"Febrero\", \"Marzo\", \"Abril\", \"Mayo\", \"Junio\", \"Julio\", \"Agosto\", \"Septiembre\", \"Octubre\", \"Noviembre\", \"Diciembre\"], \"Error en la funcion nombreMes\"\n",
    "print(\"La funcion es correcta\")"
   ]
  },
  {
   "cell_type": "markdown",
   "metadata": {
    "colab_type": "text",
    "id": "9Du0_NsNc81H"
   },
   "source": [
    "## Ones"
   ]
  },
  {
   "cell_type": "markdown",
   "metadata": {
    "colab_type": "text",
    "id": "DKp9wDLPEZdz"
   },
   "source": [
    "Completa la función ones1D que recibe como parámetros un entero $n$ y retorna una lista de tamaño $n$ con todos sus elementos con el valor $1$.\n",
    "\n",
    "Ejemplo:\n",
    "\n",
    "```\n",
    ">>> ones(5)\n",
    "[1, 1, 1, 1, 1]\n",
    "```\n",
    "\n"
   ]
  },
  {
   "cell_type": "code",
   "execution_count": 0,
   "metadata": {
    "colab": {},
    "colab_type": "code",
    "id": "l4j5ka46EulY"
   },
   "outputs": [],
   "source": [
    "def ones1D(n):\n",
    "  ones_list = #tu codigo\n",
    "  #...\n",
    "  return ones_list  "
   ]
  },
  {
   "cell_type": "markdown",
   "metadata": {
    "colab_type": "text",
    "id": "TBYV7LYqdSJo"
   },
   "source": [
    "Ejecuta la siguiente celda para comprobar la función ones1D:"
   ]
  },
  {
   "cell_type": "code",
   "execution_count": 0,
   "metadata": {
    "colab": {},
    "colab_type": "code",
    "id": "QUlEotVIdRno"
   },
   "outputs": [],
   "source": [
    "assert len(ones1D(10)) == 10 and  ones1D(3).count(1) == 3 , \"error en la funcion ones1D\"\n",
    "print(\"La funcion es correcta\")"
   ]
  },
  {
   "cell_type": "markdown",
   "metadata": {
    "colab_type": "text",
    "id": "lxOMWQXXEZp3"
   },
   "source": [
    "Completa la función ones2D que recibe como parámetros un entero $m$ y un entero $n$ y retorna una lista con $m$ sub-listas cada una de tamaño $n$ con todos sus elementos con el valor 1. En otras palabras, una matriz $m \\times n$ con sus elementos iniciados con valor $1$.\n",
    "\n",
    "Ejemplo:\n",
    "\n",
    "\n",
    "\n",
    "```\n",
    ">>> ones2D(2, 3)\n",
    "[[1, 1, 1], [1, 1, 1]]\n",
    "```\n",
    "\n"
   ]
  },
  {
   "cell_type": "code",
   "execution_count": 0,
   "metadata": {
    "colab": {},
    "colab_type": "code",
    "id": "-xfFmttxFRCw"
   },
   "outputs": [],
   "source": [
    "def ones2D(m, n):\n",
    "  ones_ll = #tu codigo\n",
    "  #...\n",
    "  return ones_ll"
   ]
  },
  {
   "cell_type": "markdown",
   "metadata": {
    "colab_type": "text",
    "id": "yugjWXI9eI4P"
   },
   "source": [
    "Ejecuta la siguiente celda para comprobar la función ones2D:"
   ]
  },
  {
   "cell_type": "code",
   "execution_count": 0,
   "metadata": {
    "colab": {},
    "colab_type": "code",
    "id": "i7sZXWsveJBC"
   },
   "outputs": [],
   "source": [
    "assert len(ones1D(10)) == 10 and  ones1D(3).count(1) == 3 , \"error en la funcion ones1D\"\n",
    "print(\"La funcion es correcta\")"
   ]
  },
  {
   "cell_type": "markdown",
   "metadata": {
    "colab_type": "text",
    "id": "3nzzkH6EA88D"
   },
   "source": [
    "# Ejercicios estadística"
   ]
  },
  {
   "cell_type": "markdown",
   "metadata": {
    "colab_type": "text",
    "id": "e5g5CAaOc01h"
   },
   "source": [
    "Función suma."
   ]
  },
  {
   "cell_type": "code",
   "execution_count": 0,
   "metadata": {
    "colab": {},
    "colab_type": "code",
    "id": "RxWbpZ42c07g"
   },
   "outputs": [],
   "source": []
  },
  {
   "cell_type": "markdown",
   "metadata": {
    "colab_type": "text",
    "id": "Hc30xEPMc1QC"
   },
   "source": [
    "Función media."
   ]
  },
  {
   "cell_type": "code",
   "execution_count": 0,
   "metadata": {
    "colab": {},
    "colab_type": "code",
    "id": "2KyU6PyCc1VM"
   },
   "outputs": [],
   "source": []
  },
  {
   "cell_type": "markdown",
   "metadata": {
    "colab_type": "text",
    "id": "ImMoE5w4c1of"
   },
   "source": [
    "Función varianza."
   ]
  },
  {
   "cell_type": "code",
   "execution_count": 0,
   "metadata": {
    "colab": {},
    "colab_type": "code",
    "id": "h0w2PHhLc1tG"
   },
   "outputs": [],
   "source": []
  },
  {
   "cell_type": "markdown",
   "metadata": {
    "colab_type": "text",
    "id": "fxxJeFhbA9Cq"
   },
   "source": [
    "# Ejercicios álgebra lineal"
   ]
  },
  {
   "cell_type": "markdown",
   "metadata": {
    "colab_type": "text",
    "id": "6dXp-owNeqP9"
   },
   "source": [
    "## Vectores con listas"
   ]
  },
  {
   "cell_type": "code",
   "execution_count": 0,
   "metadata": {
    "colab": {},
    "colab_type": "code",
    "id": "OvNCcnXLBBc0"
   },
   "outputs": [],
   "source": []
  },
  {
   "cell_type": "markdown",
   "metadata": {
    "colab_type": "text",
    "id": "6B7dwCC7eqnL"
   },
   "source": [
    "## Matrices con listas de listas"
   ]
  },
  {
   "cell_type": "markdown",
   "metadata": {
    "colab_type": "text",
    "id": "l36RNkUqexzU"
   },
   "source": [
    "Suma escalar."
   ]
  },
  {
   "cell_type": "code",
   "execution_count": 0,
   "metadata": {
    "colab": {},
    "colab_type": "code",
    "id": "afcnX6E_eqvP"
   },
   "outputs": [],
   "source": []
  },
  {
   "cell_type": "markdown",
   "metadata": {
    "colab_type": "text",
    "id": "jLXu_k7CfCqF"
   },
   "source": [
    "Matriz identidad."
   ]
  },
  {
   "cell_type": "code",
   "execution_count": 0,
   "metadata": {
    "colab": {},
    "colab_type": "code",
    "id": "zKWY09JhfEfa"
   },
   "outputs": [],
   "source": []
  },
  {
   "cell_type": "markdown",
   "metadata": {
    "colab_type": "text",
    "id": "ktInRgche2j1"
   },
   "source": [
    "Valida la multiplicación."
   ]
  },
  {
   "cell_type": "code",
   "execution_count": 0,
   "metadata": {
    "colab": {},
    "colab_type": "code",
    "id": "heveoz2de-Zk"
   },
   "outputs": [],
   "source": []
  },
  {
   "cell_type": "markdown",
   "metadata": {
    "colab_type": "text",
    "id": "RY2TgoGye3pV"
   },
   "source": [
    "Multiplicación de matrices."
   ]
  },
  {
   "cell_type": "code",
   "execution_count": 0,
   "metadata": {
    "colab": {},
    "colab_type": "code",
    "id": "DxFQFm51e-A1"
   },
   "outputs": [],
   "source": []
  }
 ],
 "metadata": {
  "colab": {
   "collapsed_sections": [],
   "name": "Ejercicios.ipynb",
   "provenance": []
  },
  "kernelspec": {
   "display_name": "Python 3",
   "language": "python",
   "name": "python3"
  },
  "language_info": {
   "codemirror_mode": {
    "name": "ipython",
    "version": 3
   },
   "file_extension": ".py",
   "mimetype": "text/x-python",
   "name": "python",
   "nbconvert_exporter": "python",
   "pygments_lexer": "ipython3",
   "version": "3.7.1"
  }
 },
 "nbformat": 4,
 "nbformat_minor": 1
}
