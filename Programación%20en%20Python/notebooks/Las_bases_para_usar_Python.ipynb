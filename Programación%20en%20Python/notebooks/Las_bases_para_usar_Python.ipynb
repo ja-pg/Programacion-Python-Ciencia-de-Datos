{
  "nbformat": 4,
  "nbformat_minor": 0,
  "metadata": {
    "colab": {
      "name": "Las bases para usar Python.ipynb",
      "version": "0.3.2",
      "provenance": [],
      "collapsed_sections": [],
      "include_colab_link": true
    },
    "kernelspec": {
      "name": "python3",
      "display_name": "Python 3"
    }
  },
  "cells": [
    {
      "cell_type": "markdown",
      "metadata": {
        "id": "view-in-github",
        "colab_type": "text"
      },
      "source": [
        "<a href=\"https://colab.research.google.com/github/jhermosillo/diplomado_CDD2019/blob/modulo1/Programaci%C3%B3n%2520en%2520Python/notebooks/Las_bases_para_usar_Python.ipynb\" target=\"_parent\"><img src=\"https://colab.research.google.com/assets/colab-badge.svg\" alt=\"Open In Colab\"/></a>"
      ]
    },
    {
      "cell_type": "markdown",
      "metadata": {
        "id": "gbaeYc_PELNL",
        "colab_type": "text"
      },
      "source": [
        "# Corriendo código de Python\n",
        "\n",
        "Python es un lenguaje interpretado, el código es ejecutado directamente, sin necesidad de ser compilado a un programa.\n",
        "\n",
        "Esto permite que las instrucciones puedan ser evaluadas e visualizadas inmediatamente."
      ]
    },
    {
      "cell_type": "markdown",
      "metadata": {
        "id": "8UkmHfasvzMM",
        "colab_type": "text"
      },
      "source": [
        "# Expresiones en python\n",
        "\n",
        "Python puede recibir expresiones y evaluarlas directamente (como una calculadora).\n",
        "\n",
        "Por ejemplo puedes escribir:\n",
        "\n",
        ">`````\n",
        "3 + 7\n",
        "```\n",
        "\n",
        "Python analizará la expresión y te regresará el resultado de la operación:\n",
        "\n",
        "> ```\n",
        "10\n",
        "```\n",
        "\n",
        "Ejecuta la siguiente celda y pruebalo tú mismo."
      ]
    },
    {
      "cell_type": "code",
      "metadata": {
        "id": "x6gI8FcPvur2",
        "colab_type": "code",
        "colab": {}
      },
      "source": [
        "3 + 7"
      ],
      "execution_count": 0,
      "outputs": []
    },
    {
      "cell_type": "markdown",
      "metadata": {
        "id": "lcYeJr9AK5OE",
        "colab_type": "text"
      },
      "source": [
        "Algunos de los operadores que puedes utilizar:\n",
        "\n",
        "> ```\n",
        "+ suma\n",
        "- resta\n",
        "* multiplicación\n",
        "/ división\n",
        "// división entera\n",
        "** potencia\n",
        "% módulo\n",
        "```"
      ]
    },
    {
      "cell_type": "markdown",
      "metadata": {
        "id": "kRZrbv3ov7_D",
        "colab_type": "text"
      },
      "source": [
        "### Ahora intentalo tú escribiendo una expresión en la siguiente celda."
      ]
    },
    {
      "cell_type": "code",
      "metadata": {
        "id": "-zUX0fLev5FW",
        "colab_type": "code",
        "colab": {}
      },
      "source": [
        ""
      ],
      "execution_count": 0,
      "outputs": []
    },
    {
      "cell_type": "markdown",
      "metadata": {
        "id": "Z_PZVVq4NZJE",
        "colab_type": "text"
      },
      "source": [
        "Puedes combinar múltiples operadores en una misma expresión.\n",
        "\n",
        "---\n",
        "\n",
        "*Nota: Recuerda que ciertos operadores matemáticos tienen precedencia sobre otros.*"
      ]
    },
    {
      "cell_type": "code",
      "metadata": {
        "id": "92ELRzrWNhdj",
        "colab_type": "code",
        "colab": {}
      },
      "source": [
        "5*2 + 4/2*2 + 1"
      ],
      "execution_count": 0,
      "outputs": []
    },
    {
      "cell_type": "markdown",
      "metadata": {
        "id": "7QVK5OhdBXA6",
        "colab_type": "text"
      },
      "source": [
        "# Variables\n",
        "\n",
        "En un lenguaje de programación, una variable es un espacio en memoria utilizado para almacenar información (un valor), este es referido mediante un nombre simbólico (identificador o nombre de la variable). En Python, nombrarás a la variable y usarás el signo ```=``` para asignarle un valor. Por ejemplo:\n",
        "\n",
        ">```\n",
        "mensaje = \"Hola mundo!\"\n",
        "n = 10\n",
        "pi = 3.14159265\n",
        "```\n",
        "\n",
        "Nombres de variables:\n",
        "\n",
        "* El nombre de la variables solo puede contener letras, digitos y/o guion bajo (\\_).\n",
        "* Una variable debe iniciar con una letra o un guion bajo.\n",
        "* Las variables son sensibles a minusculas y mayusculas (```x``` es diferente a ```X```).\n",
        "\n",
        "Restricciones:\n",
        "* Algunas palabras son reservadas por Python y no puedes utilizarlas como nombres de variables.\n",
        "  \n",
        "  Palabras reservadas:\n",
        "  > ```\n",
        "  False class finally is return\n",
        "  None continue for lambda try\n",
        "  True def from nonlocal while\n",
        "  and del global not with\n",
        "  as elif if or yield\n",
        "  assert else import pass\n",
        "  break except in raise\n",
        "  ```\n",
        "* Una variable no puede iniciar con digitos, por ejemplo, ```20gatos``` no es un nombre válido.\n",
        "\n",
        "Algunas recomendaciones para elegir nombres de variables:\n",
        "* Utiliza nombres que permitan identificar para que es utilizada:\n",
        "  \n",
        "  >```\n",
        "  pi = 3.14159265\n",
        "  mensaje = \"Hola mundo!\"\n",
        "  segundos_por_dia = 86400\n",
        "  ```\n",
        "* Puedes usar nombres cortos para las variables (```i``` y ```j```) cuando solo las usarás durante una pequeña sección de código.\n",
        "* Para evitar confusiones, es común usar únicamente letras minúsculas en el nombre de las variables.\n",
        "* Para variables con múltiples palabras, utiliza ```_``` para separarlas (```segundos_por_dia```)."
      ]
    },
    {
      "cell_type": "markdown",
      "metadata": {
        "id": "EaSHVVdDBgx0",
        "colab_type": "text"
      },
      "source": [
        "# Tipos de datos\n",
        "\n",
        "Python es un lenguaje dinámicamente tipado, esto quiere decir que una misma variable puede valores de distinto _tipo_ en momentos diferentes.\n",
        "\n",
        "Entonces, al declarar una variable en python asignarás un valor a ésta, el valor asignado tiene un _tipo_. Los tipos de datos primitivos disponibles en python son:\n",
        "\n",
        "* Integers o enteros.\n",
        "\n",
        "\n",
        ">```\n",
        "n = 10\n",
        "```\n",
        "\n",
        "\n",
        "* Floats o punto flotante.\n",
        "\n",
        "\n",
        ">```\n",
        "pi = 3.14159265\n",
        "```\n",
        "\n",
        "\n",
        "* String o cadena.\n",
        "\n",
        "\n",
        ">```\n",
        "msj = \"Hola mundo!\"\n",
        "```\n",
        "\n",
        "\n",
        "* Booleans o Booleanos.\n",
        "\n",
        "\n",
        ">```\n",
        "flag = True\n",
        "```\n",
        "\n",
        "Además de éstos, existen otros tipos de datos que se componen de uno o más datos primitivos. En python estos son:\n",
        "\n",
        "* List o listas.\n",
        ">```\n",
        "first_five_numbers = [1, 2, 3, 4, 5]\n",
        "```\n",
        "\n",
        "* Tuple o tuplas.\n",
        ">```\n",
        "pair = (1, 10)\n",
        "```\n",
        "\n",
        "* Ranges.\n",
        ">```\n",
        "range(5)\n",
        "```\n",
        "\n",
        "* Dictionary.\n",
        ">```\n",
        "agenda = {'jack': 4098, 'sjoerd': 4127}\n",
        "```\n",
        "\n"
      ]
    },
    {
      "cell_type": "markdown",
      "metadata": {
        "id": "hGH0IQtwPUyT",
        "colab_type": "text"
      },
      "source": [
        "Prueba algunos tipos de datos asignando un nuevo valor a la variable ```var```, la celda imprimirá el tipo de dato."
      ]
    },
    {
      "cell_type": "code",
      "metadata": {
        "id": "zzoSp8I3Bbk6",
        "colab_type": "code",
        "colab": {
          "base_uri": "https://localhost:8080/",
          "height": 34
        },
        "outputId": "85b74b3c-705b-4b00-aec6-cec076629108"
      },
      "source": [
        "#cambia el valor de la siguiete variable a otros tipos de datos.\n",
        "var = 10\n",
        "type(var)"
      ],
      "execution_count": 10,
      "outputs": [
        {
          "output_type": "execute_result",
          "data": {
            "text/plain": [
              "int"
            ]
          },
          "metadata": {
            "tags": []
          },
          "execution_count": 10
        }
      ]
    },
    {
      "cell_type": "markdown",
      "metadata": {
        "id": "Y-Aba4BpNMiV",
        "colab_type": "text"
      },
      "source": [
        "Un ejemplo de tipado dinámico."
      ]
    },
    {
      "cell_type": "code",
      "metadata": {
        "id": "ogh6bu3hNKGn",
        "colab_type": "code",
        "colab": {
          "base_uri": "https://localhost:8080/",
          "height": 51
        },
        "outputId": "88a4cc03-a79d-4d4a-94ec-4852fbfc5f99"
      },
      "source": [
        "#Primero declaramos una variable asignandole un valor entero\n",
        "var = 10\n",
        "print(var)\n",
        "\n",
        "#Ahora le asignamos otro tipo de dato a la variable\n",
        "var = \"hola\"\n",
        "print(var)"
      ],
      "execution_count": 3,
      "outputs": [
        {
          "output_type": "stream",
          "text": [
            "10\n",
            "hola\n"
          ],
          "name": "stdout"
        }
      ]
    },
    {
      "cell_type": "markdown",
      "metadata": {
        "id": "ZJiRj9uSP-MV",
        "colab_type": "text"
      },
      "source": [
        "## Comentarios en el código\n",
        "\n",
        "En algunas de las líneas de código en celdas anteriores aparece el símbolo ```#``` en la primera posición. En python esto permite escribir cualquier texto y será ignorado durante la ejecución. Esto te permite escribir notas y documentar tu código sin afectar el programa.\n",
        "\n",
        "También puedes hacer comentarios que se extienden por múltiples líneas encerrando el texto entre ```'''```.\n",
        "\n"
      ]
    },
    {
      "cell_type": "code",
      "metadata": {
        "id": "U7FTtPqpRI6p",
        "colab_type": "code",
        "colab": {
          "base_uri": "https://localhost:8080/",
          "height": 34
        },
        "outputId": "ffe1be7c-ca47-4d6c-e007-6e22f52d32fd"
      },
      "source": [
        "#Un comentario en una sola linea\n",
        "m = 5\n",
        "\n",
        "'''\n",
        "Un comentario\n",
        "multi\n",
        "linea\n",
        "no afecta\n",
        "el codigo\n",
        "'''\n",
        "n = 10\n",
        "print(n*m)"
      ],
      "execution_count": 9,
      "outputs": [
        {
          "output_type": "stream",
          "text": [
            "50\n"
          ],
          "name": "stdout"
        }
      ]
    },
    {
      "cell_type": "markdown",
      "metadata": {
        "id": "1-Hc_GjcZntz",
        "colab_type": "text"
      },
      "source": [
        "# Condicionales\n",
        "\n",
        "Cuando escribes un programa, a veces es necesario ejecutar alguna secuencia de código únicamente cuando se cumple cierta condición. Para hacer esto, es necesario escribir una sentencia condicional o sentencia ```if```, que ejecuta una secuencia de código si se cumple cierta condición.\n",
        "\n",
        "La primera parte de una sentencia condicional en python está formada por la palabra reservada ```if``` seguida de una expresión booleana. La expresión booleana solo podrá tomar dos valores, verdadero (```True```) o falso (```False```).\n",
        "\n",
        "```\n",
        "# Una condicional básica.\n",
        "if 5==5:\n",
        "  #Codigo se ejecuta porque 5 es igual a 5 (True)\n",
        "  #...\n",
        "```"
      ]
    },
    {
      "cell_type": "code",
      "metadata": {
        "id": "hLiTP5XyaBcP",
        "colab_type": "code",
        "colab": {
          "base_uri": "https://localhost:8080/",
          "height": 34
        },
        "outputId": "7e10e73a-3a67-4c77-ecf4-526ece4c3770"
      },
      "source": [
        "if 5 == 5:\n",
        "  print(\"Hola mundo!\")\n",
        "  \n",
        "if 4 == 5:\n",
        "  print(\"Hola segundo mundo!\")"
      ],
      "execution_count": 13,
      "outputs": [
        {
          "output_type": "stream",
          "text": [
            "Hola mundo!\n"
          ],
          "name": "stdout"
        }
      ]
    },
    {
      "cell_type": "markdown",
      "metadata": {
        "id": "OQ0oAUYXZKWF",
        "colab_type": "text"
      },
      "source": [
        "## Operadores relacionales\n",
        "Los siguientes operadores relacionales pueden ser utilizados para realizar comparaciones entre variables en una sentencia condicional.\n",
        "\n",
        ">```\n",
        "x == y #equivalente a, True si el valor de x es igual al de y\n",
        "x != y #diferente a, True si el valor de x es diferente al de y\n",
        "x < y #menor a, True si el valor de x es menor al de y\n",
        "x > y #mayor a, True si el valor de x es mayor al de y\n",
        "x <= y #menor o igual a, True si el valor de x es menor o igual al de y\n",
        "x >= y #mayor o igual a, True si el valor de x es mayor o igual al de y\n",
        "\n"
      ]
    },
    {
      "cell_type": "code",
      "metadata": {
        "id": "aY5nh_EVZsnS",
        "colab_type": "code",
        "colab": {
          "base_uri": "https://localhost:8080/",
          "height": 119
        },
        "outputId": "c73d3432-7271-4fa9-98d7-b02075e0548d"
      },
      "source": [
        "#Intenta cambiar los valores de x, y\n",
        "x = 5\n",
        "y = 5\n",
        "\n",
        "print(\"x == y\", x == y)\n",
        "print(\"x != y\", x != y)\n",
        "print(\"x < y\", x < y)\n",
        "print(\"x > y\", x > y)\n",
        "print(\"x <= y\", x <= y)\n",
        "print(\"x >= y\", x >= y)"
      ],
      "execution_count": 12,
      "outputs": [
        {
          "output_type": "stream",
          "text": [
            "x == y True\n",
            "x != y False\n",
            "x < y False\n",
            "x > y False\n",
            "x <= y True\n",
            "x >= y True\n"
          ],
          "name": "stdout"
        }
      ]
    },
    {
      "cell_type": "markdown",
      "metadata": {
        "id": "Xs3-ouNQZXjs",
        "colab_type": "text"
      },
      "source": [
        "## Operadores lógicos\n",
        "\n",
        "Puedes combinar múltiples operaciones expresiones booleanas haciendo uso de operadores lógicos. Tres operadores lógicos están dispoblien en Python:\n",
        "\n",
        "\n",
        "* **and**\n",
        "\n",
        "  > Verdadero si ambas expresiones son verdaderas.\n",
        "* **or**\n",
        "\n",
        "  > Verdadero si una de las expresiones e verdadera o ambas lo son.\n",
        "* **not**\n",
        "\n",
        "  > Negación de la expresión, regresa falso si la expresión es verdadera o verdadero si la expresión es falsa.\n"
      ]
    },
    {
      "cell_type": "code",
      "metadata": {
        "id": "QWRjLJ0eZfR-",
        "colab_type": "code",
        "colab": {
          "base_uri": "https://localhost:8080/",
          "height": 34
        },
        "outputId": "87601042-ecc3-4cfc-d718-1c4d8772da4b"
      },
      "source": [
        "#Prueba cambiando el valor de x\n",
        "x = 5\n",
        "if x > 0 and x < 10:\n",
        "  print(x, \" es un valor entre 0 y 10\")"
      ],
      "execution_count": 14,
      "outputs": [
        {
          "output_type": "stream",
          "text": [
            "5  es un valor entre 0 y 10\n"
          ],
          "name": "stdout"
        }
      ]
    },
    {
      "cell_type": "code",
      "metadata": {
        "id": "dBv8m8r1eohS",
        "colab_type": "code",
        "colab": {
          "base_uri": "https://localhost:8080/",
          "height": 34
        },
        "outputId": "a858d352-1a0f-427c-d2ce-98e83f0fa9c9"
      },
      "source": [
        "#Prueba cambiando el valor de x\n",
        "x = 6\n",
        "if (x % 2 == 0) or (x % 3 == 0):\n",
        "  print(x, \"es un numero divisible entre tres o dos o ambos\")"
      ],
      "execution_count": 19,
      "outputs": [
        {
          "output_type": "stream",
          "text": [
            "6 es un numero divisible entre tres o dos o ambos\n"
          ],
          "name": "stdout"
        }
      ]
    },
    {
      "cell_type": "code",
      "metadata": {
        "id": "URIaRbqPeood",
        "colab_type": "code",
        "colab": {
          "base_uri": "https://localhost:8080/",
          "height": 34
        },
        "outputId": "4a53248a-e0ba-4722-c25d-2ace0252e6f4"
      },
      "source": [
        "#Prueba cambiando el valor de x\n",
        "x = 5\n",
        "if not(x > 10):\n",
        "  print(x, \" es un número menor o igual a 10\")"
      ],
      "execution_count": 21,
      "outputs": [
        {
          "output_type": "stream",
          "text": [
            "5  es un número menor o igual a 10\n"
          ],
          "name": "stdout"
        }
      ]
    },
    {
      "cell_type": "markdown",
      "metadata": {
        "id": "8tSu1Fk_Zapl",
        "colab_type": "text"
      },
      "source": [
        "## Operador in\n",
        "En python, el operador ```in``` es un operador especial que retorna verdadero si el elemento en la parte izquierda del operador se encuentra en la _colección_ en la parte derecha del operador.\n",
        "\n",
        "\n",
        "\n",
        ">```\n",
        "x in colection\n",
        "```\n",
        "\n"
      ]
    },
    {
      "cell_type": "code",
      "metadata": {
        "id": "lmRWPxSdZfyh",
        "colab_type": "code",
        "colab": {
          "base_uri": "https://localhost:8080/",
          "height": 34
        },
        "outputId": "ffecc6ca-2bd9-41ef-aaf6-26e29609c130"
      },
      "source": [
        "#Un ejemplo del operador in utilizando cadenas de texto\n",
        "msj = \"Hola mundo!\"\n",
        "if \"mundo\" in msj:\n",
        "  print(\"mundo esta contenido en \", msj)"
      ],
      "execution_count": 22,
      "outputs": [
        {
          "output_type": "stream",
          "text": [
            "mundo esta contenido en  Hola mundo!\n"
          ],
          "name": "stdout"
        }
      ]
    },
    {
      "cell_type": "markdown",
      "metadata": {
        "id": "KFXxQtsVkHFQ",
        "colab_type": "text"
      },
      "source": [
        "## Ejecución alternativa de una condicional\n",
        "Cuando escribes una condicional, a veces es necesario ejecutar una secuencia de código alternativa cuando no se cumplió la condición. En python la palabra reservada ```else``` puede ser utilizada con este objetivo."
      ]
    },
    {
      "cell_type": "code",
      "metadata": {
        "id": "dhuNuX8tkS7n",
        "colab_type": "code",
        "colab": {
          "base_uri": "https://localhost:8080/",
          "height": 34
        },
        "outputId": "84c967a4-29a3-4068-f353-e26c5871427d"
      },
      "source": [
        "#Intenta cambiar el valor de x\n",
        "x == 4\n",
        "if x % 2 == 0:\n",
        "  print(x, \"es un numero par\")\n",
        "else:\n",
        "  print(x, \"es un numero impar\")"
      ],
      "execution_count": 23,
      "outputs": [
        {
          "output_type": "stream",
          "text": [
            "5 es un numero impar\n"
          ],
          "name": "stdout"
        }
      ]
    },
    {
      "cell_type": "markdown",
      "metadata": {
        "id": "D0se4QsZaVRC",
        "colab_type": "text"
      },
      "source": [
        "## Condicionales en cadena y anidadas\n",
        "\n",
        "A veces es necesario evaluar más de una posibilidad mediante condicionales, podrás utilizar ```elif``` (de else if) para para hacerlo.\n",
        "\n",
        "```\n",
        "if cond1:\n",
        "  #secuencia 1\n",
        "elif cond2:\n",
        "  #secuencia 2\n",
        "else:\n",
        "  #ultima secuencia\n",
        "```\n",
        "\n"
      ]
    },
    {
      "cell_type": "code",
      "metadata": {
        "id": "8V-hGCGflEln",
        "colab_type": "code",
        "colab": {
          "base_uri": "https://localhost:8080/",
          "height": 34
        },
        "outputId": "b2fb5e64-12d2-4a7a-effe-9810ca8f61a6"
      },
      "source": [
        "#condicionales en cadena\n",
        "#Prueba a cambiar los valores de x, y\n",
        "x = 5\n",
        "y = 10\n",
        "\n",
        "if x < y:\n",
        "  print(x, 'es menor que ', y)\n",
        "elif x > y:\n",
        "  print(x, 'es mayor que ', y)\n",
        "else:\n",
        "  print(x, 'es igual a', y)"
      ],
      "execution_count": 24,
      "outputs": [
        {
          "output_type": "stream",
          "text": [
            "5 es menor que  10\n"
          ],
          "name": "stdout"
        }
      ]
    },
    {
      "cell_type": "markdown",
      "metadata": {
        "id": "ytTzBmJupQly",
        "colab_type": "text"
      },
      "source": [
        "En otras ocaciones, es necesario utilizar condicionales adicionales dentro de una rama de condición.\n",
        "\n",
        "```\n",
        "if con1:\n",
        "  #secuencia 1\n",
        "else:\n",
        "  if condalt1:\n",
        "    #secuencia alternativa 1\n",
        "  elif condalt2:\n",
        "    #secuencia alternativa 2\n",
        "  else:\n",
        "    #secuencia alternativa 3\n",
        "  \n",
        "```"
      ]
    },
    {
      "cell_type": "code",
      "metadata": {
        "id": "YYcfubF-q0EW",
        "colab_type": "code",
        "colab": {
          "base_uri": "https://localhost:8080/",
          "height": 34
        },
        "outputId": "f92c61ee-3214-4349-c7b8-51b07cbea4c4"
      },
      "source": [
        "#condicionales anidadas\n",
        "#Prueba a cambiar los valores de x, y\n",
        "x = 5\n",
        "y = 10\n",
        "\n",
        "if x == y:\n",
        "  print(x, 'es igual a', y)\n",
        "else:\n",
        "  if x > y:\n",
        "    print(x, 'es mayor que ', y)\n",
        "  else:\n",
        "    print(x, 'es menor que ', y)"
      ],
      "execution_count": 25,
      "outputs": [
        {
          "output_type": "stream",
          "text": [
            "5 es menor que  10\n"
          ],
          "name": "stdout"
        }
      ]
    },
    {
      "cell_type": "markdown",
      "metadata": {
        "id": "rO0gklW0Zh2Q",
        "colab_type": "text"
      },
      "source": [
        "## !Identación!\n",
        "En python la identación es importante. Cada bloque o secuencia de código es identificado por medio de su identación. Puedes utilizar tab o espacios para identar los bloques de código."
      ]
    },
    {
      "cell_type": "markdown",
      "metadata": {
        "id": "qz4D7TLlZtCO",
        "colab_type": "text"
      },
      "source": [
        "# Ciclos"
      ]
    },
    {
      "cell_type": "markdown",
      "metadata": {
        "id": "NZRdSnHVZ7Cl",
        "colab_type": "text"
      },
      "source": [
        "## For"
      ]
    },
    {
      "cell_type": "code",
      "metadata": {
        "id": "llFicNwqZ5Xp",
        "colab_type": "code",
        "colab": {}
      },
      "source": [
        ""
      ],
      "execution_count": 0,
      "outputs": []
    },
    {
      "cell_type": "markdown",
      "metadata": {
        "id": "M5DtOHkdZ89z",
        "colab_type": "text"
      },
      "source": [
        "## While"
      ]
    },
    {
      "cell_type": "code",
      "metadata": {
        "id": "XwUTMRy6Z9-p",
        "colab_type": "code",
        "colab": {}
      },
      "source": [
        ""
      ],
      "execution_count": 0,
      "outputs": []
    },
    {
      "cell_type": "markdown",
      "metadata": {
        "id": "YX5gq6OBZ-zb",
        "colab_type": "text"
      },
      "source": [
        "# Funciones"
      ]
    },
    {
      "cell_type": "code",
      "metadata": {
        "id": "Adnp7Z59aBf7",
        "colab_type": "code",
        "colab": {}
      },
      "source": [
        ""
      ],
      "execution_count": 0,
      "outputs": []
    }
  ]
}